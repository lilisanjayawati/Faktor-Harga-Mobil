{
 "cells": [
  {
   "cell_type": "markdown",
   "metadata": {},
   "source": [
    "# Faktor Yang Mempengaruhi Harga Mobil"
   ]
  },
  {
   "cell_type": "markdown",
   "metadata": {},
   "source": [
    "# Konten <a id='back'></a>\n",
    "* [Pendahuluan](#intro)\n",
    "* [Tahap 1.Pra Pemrosesan Data](#datareview)\n",
    "     * [1.1 Mengatasi Nilai Yang Hilang](#missingvalues)\n",
    "     * [1.2 Memperbaiki Tipe Data](#datatype)\n",
    "     * [1.3 Memperbaiki Kualitas Data](#dataquality)\n",
    "* [Tahap 2. Mempelajari Parameter Inti](#dataparameter)\n",
    "     * [2.1 Histogram](#hist)\n",
    "     * [2.2 Outlier](#outlier)\n",
    "* [Tahap 3. Masa Berlaku Iklan](#dataads)\n",
    "     * [Kesimpulan](#conclusion) \n",
    "* [Tahap 4. Faktor Harga Truck](#truck)\n",
    "* [Tahap 5. Faktor Harga SUV](#suv)\n",
    "* [Kesimpulan Akhir](#final)\n"
   ]
  },
  {
   "cell_type": "markdown",
   "metadata": {},
   "source": [
    "# Pendahuluan\n",
    "\n",
    "Saya adalah seorang analis di Crankshaft List. Ratusan iklan kendaraan gratis ditayangkan di situs web ini setiap hari. Saya perlu mempelajari kumpulan data selama beberapa tahun terakhir dan menentukan faktor-faktor yang memengaruhi harga sebuah kendaraan.\n",
    "\n",
    "Dalam proyek kali ini, saya akan menganalisa berbagai faktor yang menentukan penjualan sebuah mobil. Analisa ini dilakukan dengan tujuan untuk memilah berbagai faktor yang mempengaruhi penjualan ,\n",
    "misalnya apakah mobil tersebut adalah keluaran baru,bagaimana kondisi mobil, total jarak tempuh mobil dan lain sebagainya. Untuk mendapatkan hasil analisis,\n",
    "saya akan melakukan beberapa perubahan dan penghapusan jika diperlukan, membuat histogram dan memberikan beberapa kesimpulan yang didapat dari semua proses tersebut.\n",
    "\n",
    "## Tujuan\n",
    "Menguji 2 hipotesis :\n",
    "1. Adanya faktor yang dapat berpengaruh pada penjualan mobil\n",
    "2. Pengaruh iklan pada jenis kendaraan\n",
    "\n",
    "## Tahapan\n",
    "Data tentang berbagai faktor penjualan mobil disimpan dalam berkas /datasets/vehicle_us.csv/. Tidak ada informasi lengkap mengenai data ini, maka akan diperiksa terlebih dulu sebelum melakukan analisa data.\n",
    "\n",
    "Jika terdapat masalah pada data dan merupakan hal yang signifikan maka akan dilakukan solusi sesuai kondisi data.\n",
    "Proyek ini terdiri dari beberapa tahap :\n",
    "1. Pra Pemrosesan Data\n",
    "2. Mempelajari Parameter Inti\n",
    "3. Membandingkan Faktor Dengan Scatterplot\n",
    "4. Menguji Hipotesis\n",
    "\n",
    "\n",
    "[Kembali ke Daftar Isi](#back)"
   ]
  },
  {
   "cell_type": "markdown",
   "metadata": {},
   "source": [
    "## Pra-pemrosesan"
   ]
  },
  {
   "cell_type": "code",
   "execution_count": 3,
   "metadata": {},
   "outputs": [],
   "source": [
    "# Muat semua library\n",
    "import pandas as pd\n",
    "import numpy as np\n",
    "import matplotlib.pyplot as plt\n",
    "import seaborn as sns"
   ]
  },
  {
   "cell_type": "markdown",
   "metadata": {},
   "source": [
    "### Memuat Data"
   ]
  },
  {
   "cell_type": "code",
   "execution_count": 4,
   "metadata": {},
   "outputs": [],
   "source": [
    "# Muat file data menjadi DataFrame\n",
    "try :\n",
    "  df = pd.read_csv('/datasets/vehicles_us.csv')\n",
    "except :\n",
    "  df = np.read_csv('/datasets/vehicles_us.csv')\n"
   ]
  },
  {
   "cell_type": "markdown",
   "metadata": {},
   "source": [
    "### Mengeksplorasi Data Awal"
   ]
  },
  {
   "cell_type": "markdown",
   "metadata": {},
   "source": [
    "*Dataset* ini berisi kolom-kolom berikut: \n",
    "\n",
    "\n",
    "- `price`\n",
    "- `model_year`\n",
    "- `model`\n",
    "- `condition`\n",
    "- `cylinders`\n",
    "- `fuel` — gas, disel, dan lain-lain.\n",
    "- `odometer` — jarak tempuh kendaraan saat iklan ditayangkan  \n",
    "- `transmission`\n",
    "- `paint_color`\n",
    "- `is_4wd` — apakah kendaraan memiliki penggerak 4 roda (tipe Boolean)\n",
    "- `date_posted` — tanggal iklan ditayangkan \n",
    "- `days_listed` — jumlah hari iklan ditayangkan hingga dihapus \n",
    "[Pahami kolom-kolomnya, lakukan eksplorasi data agar Anda terbiasa dengan data tersebut.]"
   ]
  },
  {
   "cell_type": "code",
   "execution_count": 12,
   "metadata": {
    "scrolled": false
   },
   "outputs": [
    {
     "name": "stdout",
     "output_type": "stream",
     "text": [
      "<class 'pandas.core.frame.DataFrame'>\n",
      "RangeIndex: 51525 entries, 0 to 51524\n",
      "Data columns (total 13 columns):\n",
      " #   Column        Non-Null Count  Dtype  \n",
      "---  ------        --------------  -----  \n",
      " 0   price         51525 non-null  int64  \n",
      " 1   model_year    47906 non-null  float64\n",
      " 2   model         51525 non-null  object \n",
      " 3   condition     51525 non-null  object \n",
      " 4   cylinders     46265 non-null  float64\n",
      " 5   fuel          51525 non-null  object \n",
      " 6   odometer      43633 non-null  float64\n",
      " 7   transmission  51525 non-null  object \n",
      " 8   type          51525 non-null  object \n",
      " 9   paint_color   42258 non-null  object \n",
      " 10  is_4wd        25572 non-null  float64\n",
      " 11  date_posted   51525 non-null  object \n",
      " 12  days_listed   51525 non-null  int64  \n",
      "dtypes: float64(4), int64(2), object(7)\n",
      "memory usage: 5.1+ MB\n"
     ]
    }
   ],
   "source": [
    "# tampilkan informasi/rangkuman umum tentang DataFrame\n",
    "df.info()\n"
   ]
  },
  {
   "cell_type": "code",
   "execution_count": 13,
   "metadata": {},
   "outputs": [
    {
     "data": {
      "text/html": [
       "<div>\n",
       "<style scoped>\n",
       "    .dataframe tbody tr th:only-of-type {\n",
       "        vertical-align: middle;\n",
       "    }\n",
       "\n",
       "    .dataframe tbody tr th {\n",
       "        vertical-align: top;\n",
       "    }\n",
       "\n",
       "    .dataframe thead th {\n",
       "        text-align: right;\n",
       "    }\n",
       "</style>\n",
       "<table border=\"1\" class=\"dataframe\">\n",
       "  <thead>\n",
       "    <tr style=\"text-align: right;\">\n",
       "      <th></th>\n",
       "      <th>price</th>\n",
       "      <th>model_year</th>\n",
       "      <th>model</th>\n",
       "      <th>condition</th>\n",
       "      <th>cylinders</th>\n",
       "      <th>fuel</th>\n",
       "      <th>odometer</th>\n",
       "      <th>transmission</th>\n",
       "      <th>type</th>\n",
       "      <th>paint_color</th>\n",
       "      <th>is_4wd</th>\n",
       "      <th>date_posted</th>\n",
       "      <th>days_listed</th>\n",
       "    </tr>\n",
       "  </thead>\n",
       "  <tbody>\n",
       "    <tr>\n",
       "      <th>0</th>\n",
       "      <td>9400</td>\n",
       "      <td>2011.0</td>\n",
       "      <td>bmw x5</td>\n",
       "      <td>good</td>\n",
       "      <td>6.0</td>\n",
       "      <td>gas</td>\n",
       "      <td>145000.0</td>\n",
       "      <td>automatic</td>\n",
       "      <td>SUV</td>\n",
       "      <td>NaN</td>\n",
       "      <td>1.0</td>\n",
       "      <td>2018-06-23</td>\n",
       "      <td>19</td>\n",
       "    </tr>\n",
       "    <tr>\n",
       "      <th>1</th>\n",
       "      <td>25500</td>\n",
       "      <td>NaN</td>\n",
       "      <td>ford f-150</td>\n",
       "      <td>good</td>\n",
       "      <td>6.0</td>\n",
       "      <td>gas</td>\n",
       "      <td>88705.0</td>\n",
       "      <td>automatic</td>\n",
       "      <td>pickup</td>\n",
       "      <td>white</td>\n",
       "      <td>1.0</td>\n",
       "      <td>2018-10-19</td>\n",
       "      <td>50</td>\n",
       "    </tr>\n",
       "    <tr>\n",
       "      <th>2</th>\n",
       "      <td>5500</td>\n",
       "      <td>2013.0</td>\n",
       "      <td>hyundai sonata</td>\n",
       "      <td>like new</td>\n",
       "      <td>4.0</td>\n",
       "      <td>gas</td>\n",
       "      <td>110000.0</td>\n",
       "      <td>automatic</td>\n",
       "      <td>sedan</td>\n",
       "      <td>red</td>\n",
       "      <td>NaN</td>\n",
       "      <td>2019-02-07</td>\n",
       "      <td>79</td>\n",
       "    </tr>\n",
       "    <tr>\n",
       "      <th>3</th>\n",
       "      <td>1500</td>\n",
       "      <td>2003.0</td>\n",
       "      <td>ford f-150</td>\n",
       "      <td>fair</td>\n",
       "      <td>8.0</td>\n",
       "      <td>gas</td>\n",
       "      <td>NaN</td>\n",
       "      <td>automatic</td>\n",
       "      <td>pickup</td>\n",
       "      <td>NaN</td>\n",
       "      <td>NaN</td>\n",
       "      <td>2019-03-22</td>\n",
       "      <td>9</td>\n",
       "    </tr>\n",
       "    <tr>\n",
       "      <th>4</th>\n",
       "      <td>14900</td>\n",
       "      <td>2017.0</td>\n",
       "      <td>chrysler 200</td>\n",
       "      <td>excellent</td>\n",
       "      <td>4.0</td>\n",
       "      <td>gas</td>\n",
       "      <td>80903.0</td>\n",
       "      <td>automatic</td>\n",
       "      <td>sedan</td>\n",
       "      <td>black</td>\n",
       "      <td>NaN</td>\n",
       "      <td>2019-04-02</td>\n",
       "      <td>28</td>\n",
       "    </tr>\n",
       "  </tbody>\n",
       "</table>\n",
       "</div>"
      ],
      "text/plain": [
       "   price  model_year           model  condition  cylinders fuel  odometer  \\\n",
       "0   9400      2011.0          bmw x5       good        6.0  gas  145000.0   \n",
       "1  25500         NaN      ford f-150       good        6.0  gas   88705.0   \n",
       "2   5500      2013.0  hyundai sonata   like new        4.0  gas  110000.0   \n",
       "3   1500      2003.0      ford f-150       fair        8.0  gas       NaN   \n",
       "4  14900      2017.0    chrysler 200  excellent        4.0  gas   80903.0   \n",
       "\n",
       "  transmission    type paint_color  is_4wd date_posted  days_listed  \n",
       "0    automatic     SUV         NaN     1.0  2018-06-23           19  \n",
       "1    automatic  pickup       white     1.0  2018-10-19           50  \n",
       "2    automatic   sedan         red     NaN  2019-02-07           79  \n",
       "3    automatic  pickup         NaN     NaN  2019-03-22            9  \n",
       "4    automatic   sedan       black     NaN  2019-04-02           28  "
      ]
     },
     "execution_count": 13,
     "metadata": {},
     "output_type": "execute_result"
    }
   ],
   "source": [
    "# tampilkan sampel data\n",
    "df.head()"
   ]
  },
  {
   "cell_type": "code",
   "execution_count": 5,
   "metadata": {},
   "outputs": [
    {
     "data": {
      "text/plain": [
       "0"
      ]
     },
     "execution_count": 5,
     "metadata": {},
     "output_type": "execute_result"
    }
   ],
   "source": [
    "df.duplicated().sum()"
   ]
  },
  {
   "cell_type": "markdown",
   "metadata": {},
   "source": [
    "Dari tampilan informasi umum, dapat kita lihat bahwa pada beberapa kolom seperti model_year, cylinders, odometer, paint_color, is_4wd memiliki nilai yang hlang, terutama pada kolom is_4wd.\n",
    "Belum diketahui dengan pasti apa yang terjadi pada kolom-kolom tersebut. Tidak ada duplikat pada data ini. Mari lakukan penyelidikan lebih lanjut. "
   ]
  },
  {
   "cell_type": "markdown",
   "metadata": {},
   "source": [
    "Kolom model_year memiliki tipe data float64, karena tidak ada tahun dalam bentuk desimal, misal 2011 bukan 2011.0\n",
    "Hal yang sama juga terjadi pada kolom cylinders, seharusnya cylinder tidak dituliskan dalam bentuk desimal.\n",
    "Untuk odometer memang tidak dituliskan dalam desimal, walaupun ada dalam beberapa kasus odometer dihitung dengan desimal,\n",
    "akan tetapi angka yang ditampilkan akan dibulatkan dan tidak dalam bentuk desimal."
   ]
  },
  {
   "cell_type": "markdown",
   "metadata": {},
   "source": [
    "Ada beberapa kolom memiliki nilai yang hilang. Kolom yang memiliki jumlah nilai hilang terbanyak adalah kolom is_4wd, kolom ini hanya memiliki nilai sebanyak 25572"
   ]
  },
  {
   "cell_type": "markdown",
   "metadata": {},
   "source": [
    "Berikut beberapa kolom dengan nilai yang hilang : model_year, cylinders, odometer, paint_color, is_4wd. Adanya banyak nilai yang hilang tentu tidaklah normal, kita harus mencari tahu penyebab nilai yang hilang tersebut dan melihat apakah perlu dihapus saja atau diisi.\n",
    "Kemudian ada juga kolom dengan tipe data tidak sesuai yaitu kolom model_year, cylinders, dan odometer. Untuk hal ini perlu dilakukan pengubahan tipe data."
   ]
  },
  {
   "cell_type": "markdown",
   "metadata": {},
   "source": [
    "## Mengatasi Nilai-Nilai yang Hilang (Jika Ada)"
   ]
  },
  {
   "cell_type": "code",
   "execution_count": 14,
   "metadata": {},
   "outputs": [
    {
     "data": {
      "text/plain": [
       "price               0\n",
       "model_year       3619\n",
       "model               0\n",
       "condition           0\n",
       "cylinders        5260\n",
       "fuel                0\n",
       "odometer         7892\n",
       "transmission        0\n",
       "type                0\n",
       "paint_color      9267\n",
       "is_4wd          25953\n",
       "date_posted         0\n",
       "days_listed         0\n",
       "dtype: int64"
      ]
     },
     "execution_count": 14,
     "metadata": {},
     "output_type": "execute_result"
    }
   ],
   "source": [
    "df.isna().sum()"
   ]
  },
  {
   "cell_type": "markdown",
   "metadata": {},
   "source": [
    "### Mengatasi Nilai Hilang Kolom model_year\n",
    "Dengan banyaknya jumlah nilai yg hilang di tiap kolom, saya rasa tidak mungkin untuk menghapusnya. Maka saya menggunakan fungsi berikut ini untuk mengisi nilai yang hilang."
   ]
  },
  {
   "cell_type": "code",
   "execution_count": 6,
   "metadata": {},
   "outputs": [],
   "source": [
    "# mengisi nilai yang hilang pada kolom model_year\n",
    "def fill_missing_value (dataframe, agg_column, value_column):\n",
    "    grouped_values = dataframe.groupby(agg_column)[value_column].median().reset_index()\n",
    "    size = len(grouped_values)\n",
    "    for i in range(size):\n",
    "        group = grouped_values[agg_column][i]\n",
    "        value = grouped_values[value_column][i]\n",
    "        dataframe.loc[(dataframe[agg_column]==group) & (dataframe[value_column].isna()), value_column] = value\n",
    "    return dataframe\n",
    "\n",
    "df = fill_missing_value(df,'model','model_year')"
   ]
  },
  {
   "cell_type": "markdown",
   "metadata": {},
   "source": [
    "Untuk mengisi nilai yang hilang, saya menggunakan fungsi seperti di atas. Saya menggunakan median karena pada saat menggunakan boxplot,\n",
    "bagian data mengalami kemiringan. Kolom yang digunakan pada 'group' adalah 'model' yang akan diagregasi, serta untuk 'value' menggunakan kolom 'model_year'.\n",
    "Lalu reset_index digunakan untuk menjadi kolom.\n",
    "\n",
    "for i in range disini berfungsi untuk proses looping jika ada missing value pada kolom 'model_year' maka akan diisi dengan value berdasarkan 'model'.\n",
    "Dan pada baris dataframe.loc dilakukan looping dengan kolom yg di agregasi dan jika ada nilai pada kolom pada value yg kosong,\n",
    "maka akan diisi dari hasil value [(dataframe[agg_column]==group) & (dataframe[value_column].isna()), value_column].\n",
    "Kemudian reset_index dilakukan agar menjadi kolom."
   ]
  },
  {
   "cell_type": "markdown",
   "metadata": {},
   "source": [
    "### Mengatasi Nilai Hilang Kolom Cylinders"
   ]
  },
  {
   "cell_type": "code",
   "execution_count": 7,
   "metadata": {},
   "outputs": [],
   "source": [
    "# mengisi nilai yang hilang pada kolom cylinders\n",
    "df = fill_missing_value(df, 'model','cylinders')"
   ]
  },
  {
   "cell_type": "markdown",
   "metadata": {},
   "source": [
    "Fungsi ini sama dengan fungsi diatas, jadi saya tidak akan menjelaskan dengan panjang. Untuk setiap nilai hilang pada kolom 'cylinders', akan diisi dengan value berdasarkan kolom 'model'."
   ]
  },
  {
   "cell_type": "markdown",
   "metadata": {},
   "source": [
    "### Mengatasi Nilai Hilang Kolom Odometer"
   ]
  },
  {
   "cell_type": "code",
   "execution_count": 8,
   "metadata": {},
   "outputs": [],
   "source": [
    "# mengisi nilai yang hilang pada kolom odometer\n",
    "df = fill_missing_value(df, 'condition','odometer')"
   ]
  },
  {
   "cell_type": "markdown",
   "metadata": {},
   "source": [
    "Masih sama dengan fungsi diatas, nilai yang hilang pada kolom 'odometer' akan diisi dengan value berdasarkan kolom 'condition'."
   ]
  },
  {
   "cell_type": "markdown",
   "metadata": {},
   "source": [
    "### Mengatasi Nilai Hilang Kolom is_4_wd"
   ]
  },
  {
   "cell_type": "code",
   "execution_count": 18,
   "metadata": {},
   "outputs": [],
   "source": [
    "df['is_4wd'] = df['is_4wd'].fillna(0)"
   ]
  },
  {
   "cell_type": "markdown",
   "metadata": {},
   "source": [
    "Karena kolom is_4wd memiliki jumlah nilai hilang terbanyak, tidak mungkin untuk menghapus kolom ini. Maka dari itu saya memutuskan untuk mengisi nilai hilang dengan 0."
   ]
  },
  {
   "cell_type": "markdown",
   "metadata": {},
   "source": [
    "### Mengatasi Nilai Hilang Kolom paint_color"
   ]
  },
  {
   "cell_type": "code",
   "execution_count": 19,
   "metadata": {},
   "outputs": [],
   "source": [
    "df['paint_color'] = df['paint_color'].fillna('unknown')"
   ]
  },
  {
   "cell_type": "markdown",
   "metadata": {},
   "source": [
    "Saya mengisi nilai hilang pada kolom paint_color dengan unknown karena tidak diketahui apa warna dari mobil-mobil tersebut."
   ]
  },
  {
   "cell_type": "code",
   "execution_count": 20,
   "metadata": {},
   "outputs": [
    {
     "data": {
      "text/plain": [
       "price           0\n",
       "model_year      0\n",
       "model           0\n",
       "condition       0\n",
       "cylinders       0\n",
       "fuel            0\n",
       "odometer        0\n",
       "transmission    0\n",
       "type            0\n",
       "paint_color     0\n",
       "is_4wd          0\n",
       "date_posted     0\n",
       "days_listed     0\n",
       "dtype: int64"
      ]
     },
     "execution_count": 20,
     "metadata": {},
     "output_type": "execute_result"
    }
   ],
   "source": [
    "# mengecek nilai yang hilang\n",
    "df.isna().sum()"
   ]
  },
  {
   "cell_type": "markdown",
   "metadata": {},
   "source": [
    "Semua nilai hilang sudah terisi."
   ]
  },
  {
   "cell_type": "markdown",
   "metadata": {},
   "source": [
    "## Memperbaiki Tipe Data"
   ]
  },
  {
   "cell_type": "code",
   "execution_count": 21,
   "metadata": {},
   "outputs": [],
   "source": [
    "# memperbaiki tipe data kolom model_year\n",
    "df['model_year'] = df['model_year'].astype(int)"
   ]
  },
  {
   "cell_type": "code",
   "execution_count": 22,
   "metadata": {},
   "outputs": [],
   "source": [
    "# memperbaiki tipe data kolom cylinders\n",
    "df['cylinders'] = df['cylinders'].astype(int)"
   ]
  },
  {
   "cell_type": "code",
   "execution_count": 23,
   "metadata": {},
   "outputs": [],
   "source": [
    "# memperbaiki tipe data kolom odometer\n",
    "df['odometer'] = df['odometer'].astype(int)"
   ]
  },
  {
   "cell_type": "markdown",
   "metadata": {},
   "source": [
    "Mengubah tipe data ketiga kolom diatas menjadi integer, karena nilai pada ketiga kolom tersebut tidak seharusnya dalam bentuk desimal."
   ]
  },
  {
   "cell_type": "code",
   "execution_count": 24,
   "metadata": {},
   "outputs": [],
   "source": [
    "# memperbaiki tipe data kolom is_4wd\n",
    "df['is_4wd'] = df['is_4wd'].astype(bool)"
   ]
  },
  {
   "cell_type": "markdown",
   "metadata": {},
   "source": [
    "Mengubah tipe data ini karena nilai kolomnya merupakan boolean."
   ]
  },
  {
   "cell_type": "markdown",
   "metadata": {},
   "source": [
    "## Memperbaiki Kualitas Data"
   ]
  },
  {
   "cell_type": "code",
   "execution_count": 25,
   "metadata": {},
   "outputs": [],
   "source": [
    "# Tambahkan nilai waktu dan tanggal pada saat iklan ditayangkan \n",
    "df['week_listed'] = pd.DatetimeIndex(df['date_posted']).dayofweek\n",
    "df['month_listed'] = pd.DatetimeIndex(df['date_posted']).month\n",
    "df['year_listed'] = pd.DatetimeIndex(df['date_posted']).year"
   ]
  },
  {
   "cell_type": "code",
   "execution_count": 26,
   "metadata": {},
   "outputs": [],
   "source": [
    "# Tambahkan usia kendaraan saat iklan ditayangkan\n",
    "df['age_of_car'] = df['year_listed'] - df['model_year']"
   ]
  },
  {
   "cell_type": "code",
   "execution_count": 27,
   "metadata": {},
   "outputs": [],
   "source": [
    "# Tambahkan jarak tempuh rata-rata kendaraan per tahun \n",
    "df['mileage'] = df['odometer'] / df['age_of_car'].mean()"
   ]
  },
  {
   "cell_type": "code",
   "execution_count": 28,
   "metadata": {},
   "outputs": [],
   "source": [
    "# Mungkin membantu untuk mengganti nilai pada kolom 'condition' dengan sesuatu yang dapat dimanipulasi dengan lebih mudah \n",
    "def cond(condition):\n",
    "  if 'new' in condition:\n",
    "    return '5'\n",
    "  elif 'like_new' in condition:\n",
    "    return '4'\n",
    "  elif 'excellent' in condition:\n",
    "    return '3'\n",
    "  elif 'good' in condition:\n",
    "    return '2'\n",
    "  elif 'fair' in condition:\n",
    "    return '1'\n",
    "  else:\n",
    "    return '0'\n",
    "\n",
    "\n",
    "# Menerapkan fungsi pada kolom\n",
    "df['condition'] = df['condition'].apply(cond)"
   ]
  },
  {
   "cell_type": "code",
   "execution_count": 29,
   "metadata": {},
   "outputs": [],
   "source": [
    "# mengelompokkan beberapa tipe mobil ford yang kemungkinan duplikat\n",
    "def new_ford(row) :\n",
    "  if 'ford150' in row:\n",
    "    return 'ford f-150'\n",
    "  elif 'ford250' in row:\n",
    "    return 'ford f-250'\n",
    "  elif 'ford f-250 sd' in row or 'ford f250 sd' in row:\n",
    "    return 'ford f-250 super duty'\n",
    "  elif 'ford f350' in row:\n",
    "    return 'ford f-350'\n",
    "  elif 'ford f-350 sd' in row or 'ford f350 super duty' in row:\n",
    "    return 'ford f-350 super duty'\n",
    "  else:\n",
    "    return row\n",
    "\n",
    "# menerapkan fungsi pada kolom\n",
    "df['ford_model'] = df['model'].apply(new_ford)"
   ]
  },
  {
   "cell_type": "code",
   "execution_count": 9,
   "metadata": {},
   "outputs": [],
   "source": [
    "# mengisi nilai 1 pada kolom price\n",
    "df = fill_missing_value(df, 'model_year','price')"
   ]
  },
  {
   "cell_type": "markdown",
   "metadata": {},
   "source": [
    "Karena banyak jumlah mobil dengan harga 1, maka saya putuskan untuk mengubahnya dengan menggunakan fungsi di atas. Harga mobil 1 akan diganti dengan hasil fungsi berdasarkan nilai pada kolom model_year."
   ]
  },
  {
   "cell_type": "markdown",
   "metadata": {},
   "source": [
    "## Memeriksa Data yang Sudah Bersih"
   ]
  },
  {
   "cell_type": "code",
   "execution_count": 31,
   "metadata": {},
   "outputs": [
    {
     "name": "stdout",
     "output_type": "stream",
     "text": [
      "<class 'pandas.core.frame.DataFrame'>\n",
      "RangeIndex: 51525 entries, 0 to 51524\n",
      "Data columns (total 19 columns):\n",
      " #   Column        Non-Null Count  Dtype  \n",
      "---  ------        --------------  -----  \n",
      " 0   price         51525 non-null  float64\n",
      " 1   model_year    51525 non-null  int64  \n",
      " 2   model         51525 non-null  object \n",
      " 3   condition     51525 non-null  object \n",
      " 4   cylinders     51525 non-null  int64  \n",
      " 5   fuel          51525 non-null  object \n",
      " 6   odometer      51525 non-null  int64  \n",
      " 7   transmission  51525 non-null  object \n",
      " 8   type          51525 non-null  object \n",
      " 9   paint_color   51525 non-null  object \n",
      " 10  is_4wd        51525 non-null  bool   \n",
      " 11  date_posted   51525 non-null  object \n",
      " 12  days_listed   51525 non-null  int64  \n",
      " 13  week_listed   51525 non-null  int64  \n",
      " 14  month_listed  51525 non-null  int64  \n",
      " 15  year_listed   51525 non-null  int64  \n",
      " 16  age_of_car    51525 non-null  int64  \n",
      " 17  mileage       51525 non-null  float64\n",
      " 18  ford_model    51525 non-null  object \n",
      "dtypes: bool(1), float64(2), int64(8), object(8)\n",
      "memory usage: 7.1+ MB\n"
     ]
    }
   ],
   "source": [
    "# tampilkan informasi/rangkuman umum tentang DataFrame\n",
    "df.info()"
   ]
  },
  {
   "cell_type": "code",
   "execution_count": 32,
   "metadata": {
    "scrolled": true
   },
   "outputs": [
    {
     "data": {
      "text/html": [
       "<div>\n",
       "<style scoped>\n",
       "    .dataframe tbody tr th:only-of-type {\n",
       "        vertical-align: middle;\n",
       "    }\n",
       "\n",
       "    .dataframe tbody tr th {\n",
       "        vertical-align: top;\n",
       "    }\n",
       "\n",
       "    .dataframe thead th {\n",
       "        text-align: right;\n",
       "    }\n",
       "</style>\n",
       "<table border=\"1\" class=\"dataframe\">\n",
       "  <thead>\n",
       "    <tr style=\"text-align: right;\">\n",
       "      <th></th>\n",
       "      <th>price</th>\n",
       "      <th>model_year</th>\n",
       "      <th>model</th>\n",
       "      <th>condition</th>\n",
       "      <th>cylinders</th>\n",
       "      <th>fuel</th>\n",
       "      <th>odometer</th>\n",
       "      <th>transmission</th>\n",
       "      <th>type</th>\n",
       "      <th>paint_color</th>\n",
       "      <th>is_4wd</th>\n",
       "      <th>date_posted</th>\n",
       "      <th>days_listed</th>\n",
       "      <th>week_listed</th>\n",
       "      <th>month_listed</th>\n",
       "      <th>year_listed</th>\n",
       "      <th>age_of_car</th>\n",
       "      <th>mileage</th>\n",
       "      <th>ford_model</th>\n",
       "    </tr>\n",
       "  </thead>\n",
       "  <tbody>\n",
       "    <tr>\n",
       "      <th>0</th>\n",
       "      <td>10500.0</td>\n",
       "      <td>2011</td>\n",
       "      <td>bmw x5</td>\n",
       "      <td>2</td>\n",
       "      <td>6</td>\n",
       "      <td>gas</td>\n",
       "      <td>145000</td>\n",
       "      <td>automatic</td>\n",
       "      <td>SUV</td>\n",
       "      <td>unknown</td>\n",
       "      <td>True</td>\n",
       "      <td>2018-06-23</td>\n",
       "      <td>19</td>\n",
       "      <td>5</td>\n",
       "      <td>6</td>\n",
       "      <td>2018</td>\n",
       "      <td>7</td>\n",
       "      <td>17030.961136</td>\n",
       "      <td>bmw x5</td>\n",
       "    </tr>\n",
       "    <tr>\n",
       "      <th>1</th>\n",
       "      <td>10500.0</td>\n",
       "      <td>2011</td>\n",
       "      <td>ford f-150</td>\n",
       "      <td>2</td>\n",
       "      <td>6</td>\n",
       "      <td>gas</td>\n",
       "      <td>88705</td>\n",
       "      <td>automatic</td>\n",
       "      <td>pickup</td>\n",
       "      <td>white</td>\n",
       "      <td>True</td>\n",
       "      <td>2018-10-19</td>\n",
       "      <td>50</td>\n",
       "      <td>4</td>\n",
       "      <td>10</td>\n",
       "      <td>2018</td>\n",
       "      <td>7</td>\n",
       "      <td>10418.837293</td>\n",
       "      <td>ford f-150</td>\n",
       "    </tr>\n",
       "    <tr>\n",
       "      <th>2</th>\n",
       "      <td>11800.0</td>\n",
       "      <td>2013</td>\n",
       "      <td>hyundai sonata</td>\n",
       "      <td>5</td>\n",
       "      <td>4</td>\n",
       "      <td>gas</td>\n",
       "      <td>110000</td>\n",
       "      <td>automatic</td>\n",
       "      <td>sedan</td>\n",
       "      <td>red</td>\n",
       "      <td>False</td>\n",
       "      <td>2019-02-07</td>\n",
       "      <td>79</td>\n",
       "      <td>3</td>\n",
       "      <td>2</td>\n",
       "      <td>2019</td>\n",
       "      <td>6</td>\n",
       "      <td>12920.039482</td>\n",
       "      <td>hyundai sonata</td>\n",
       "    </tr>\n",
       "    <tr>\n",
       "      <th>3</th>\n",
       "      <td>4488.0</td>\n",
       "      <td>2003</td>\n",
       "      <td>ford f-150</td>\n",
       "      <td>1</td>\n",
       "      <td>8</td>\n",
       "      <td>gas</td>\n",
       "      <td>181613</td>\n",
       "      <td>automatic</td>\n",
       "      <td>pickup</td>\n",
       "      <td>unknown</td>\n",
       "      <td>False</td>\n",
       "      <td>2019-03-22</td>\n",
       "      <td>9</td>\n",
       "      <td>4</td>\n",
       "      <td>3</td>\n",
       "      <td>2019</td>\n",
       "      <td>16</td>\n",
       "      <td>21331.337550</td>\n",
       "      <td>ford f-150</td>\n",
       "    </tr>\n",
       "    <tr>\n",
       "      <th>4</th>\n",
       "      <td>19800.0</td>\n",
       "      <td>2017</td>\n",
       "      <td>chrysler 200</td>\n",
       "      <td>3</td>\n",
       "      <td>4</td>\n",
       "      <td>gas</td>\n",
       "      <td>80903</td>\n",
       "      <td>automatic</td>\n",
       "      <td>sedan</td>\n",
       "      <td>black</td>\n",
       "      <td>False</td>\n",
       "      <td>2019-04-02</td>\n",
       "      <td>28</td>\n",
       "      <td>1</td>\n",
       "      <td>4</td>\n",
       "      <td>2019</td>\n",
       "      <td>2</td>\n",
       "      <td>9502.454129</td>\n",
       "      <td>chrysler 200</td>\n",
       "    </tr>\n",
       "  </tbody>\n",
       "</table>\n",
       "</div>"
      ],
      "text/plain": [
       "     price  model_year           model condition  cylinders fuel  odometer  \\\n",
       "0  10500.0        2011          bmw x5         2          6  gas    145000   \n",
       "1  10500.0        2011      ford f-150         2          6  gas     88705   \n",
       "2  11800.0        2013  hyundai sonata         5          4  gas    110000   \n",
       "3   4488.0        2003      ford f-150         1          8  gas    181613   \n",
       "4  19800.0        2017    chrysler 200         3          4  gas     80903   \n",
       "\n",
       "  transmission    type paint_color  is_4wd date_posted  days_listed  \\\n",
       "0    automatic     SUV     unknown    True  2018-06-23           19   \n",
       "1    automatic  pickup       white    True  2018-10-19           50   \n",
       "2    automatic   sedan         red   False  2019-02-07           79   \n",
       "3    automatic  pickup     unknown   False  2019-03-22            9   \n",
       "4    automatic   sedan       black   False  2019-04-02           28   \n",
       "\n",
       "   week_listed  month_listed  year_listed  age_of_car       mileage  \\\n",
       "0            5             6         2018           7  17030.961136   \n",
       "1            4            10         2018           7  10418.837293   \n",
       "2            3             2         2019           6  12920.039482   \n",
       "3            4             3         2019          16  21331.337550   \n",
       "4            1             4         2019           2   9502.454129   \n",
       "\n",
       "       ford_model  \n",
       "0          bmw x5  \n",
       "1      ford f-150  \n",
       "2  hyundai sonata  \n",
       "3      ford f-150  \n",
       "4    chrysler 200  "
      ]
     },
     "execution_count": 32,
     "metadata": {},
     "output_type": "execute_result"
    }
   ],
   "source": [
    "# tampilkan sampel data \n",
    "df.head()"
   ]
  },
  {
   "cell_type": "markdown",
   "metadata": {},
   "source": [
    "## Mempelajari Parameter Inti \n",
    "\n",
    "- Harga\n",
    "- Usia kendaraan ketika iklan ditayangkan\n",
    "- Jarak tempuh\n",
    "- Jumlah silinder \n",
    "- Kondisi"
   ]
  },
  {
   "cell_type": "markdown",
   "metadata": {},
   "source": [
    "### Histogram Price\n",
    "\n"
   ]
  },
  {
   "cell_type": "code",
   "execution_count": 33,
   "metadata": {},
   "outputs": [
    {
     "data": {
      "text/plain": [
       "Text(0, 0.5, 'car')"
      ]
     },
     "execution_count": 33,
     "metadata": {},
     "output_type": "execute_result"
    },
    {
     "data": {
      "image/png": "[encoded data removed]",
      "text/plain": [
       "<Figure size 432x288 with 1 Axes>"
      ]
     },
     "metadata": {
      "needs_background": "light"
     },
     "output_type": "display_data"
    }
   ],
   "source": [
    "df['price'].hist(bins=50)\n",
    "plt.xlabel('price')\n",
    "plt.ylabel('car')"
   ]
  },
  {
   "cell_type": "markdown",
   "metadata": {},
   "source": [
    "Dari histogram diatas, terlihat bahwa harga mobil yang dijual paling banyak berkisar antara 0 hingga 50.000.\n",
    "Dan harga yang memuncak sepertinya berada di angka 10.000. Kemudian bins naik turun ke harga 20.000-30.000"
   ]
  },
  {
   "cell_type": "markdown",
   "metadata": {},
   "source": [
    "### Histogram Age of Car\n",
    "\n"
   ]
  },
  {
   "cell_type": "code",
   "execution_count": 34,
   "metadata": {},
   "outputs": [
    {
     "data": {
      "text/plain": [
       "Text(0, 0.5, 'car')"
      ]
     },
     "execution_count": 34,
     "metadata": {},
     "output_type": "execute_result"
    },
    {
     "data": {
      "image/png": "[encoded data removed]",
      "text/plain": [
       "<Figure size 432x288 with 1 Axes>"
      ]
     },
     "metadata": {
      "needs_background": "light"
     },
     "output_type": "display_data"
    }
   ],
   "source": [
    "df['age_of_car'].hist(bins=50)\n",
    "plt.xlabel('age of car')\n",
    "plt.ylabel('car')"
   ]
  },
  {
   "cell_type": "markdown",
   "metadata": {},
   "source": [
    "Jumlah usia kendaraan saat dijual memuncak pada angka belasan, lalu turun drastis dan menurun terus pada angka selanjutnya.\n",
    "\n"
   ]
  },
  {
   "cell_type": "markdown",
   "metadata": {},
   "source": [
    "### Histogram Odometer\n",
    "\n"
   ]
  },
  {
   "cell_type": "code",
   "execution_count": 35,
   "metadata": {},
   "outputs": [
    {
     "data": {
      "text/plain": [
       "Text(0, 0.5, 'car total')"
      ]
     },
     "execution_count": 35,
     "metadata": {},
     "output_type": "execute_result"
    },
    {
     "data": {
      "image/png": "[encoded data removed]",
      "text/plain": [
       "<Figure size 432x288 with 1 Axes>"
      ]
     },
     "metadata": {
      "needs_background": "light"
     },
     "output_type": "display_data"
    }
   ],
   "source": [
    "df['odometer'].hist(bins=80, range=(0, 900000))\n",
    "plt.xlabel('odometer')\n",
    "plt.ylabel('car total')"
   ]
  },
  {
   "cell_type": "markdown",
   "metadata": {},
   "source": [
    "Karena nilai max kolom odometer adalah 990.000, saya memutuskan untuk membatasi range di angka 900.000, karena jika range 1.000.0000 nilai sumbu x menjadi berpangkat. Nilai di kisaran 900.000 pun berjumlah sangat sedikit sehingga seharusnya tidak telalu berpengaruh pada tampilan histogram. "
   ]
  },
  {
   "cell_type": "markdown",
   "metadata": {},
   "source": [
    "### Histogram Cylinders"
   ]
  },
  {
   "cell_type": "code",
   "execution_count": 36,
   "metadata": {},
   "outputs": [
    {
     "data": {
      "text/plain": [
       "Text(0, 0.5, 'car')"
      ]
     },
     "execution_count": 36,
     "metadata": {},
     "output_type": "execute_result"
    },
    {
     "data": {
      "image/png": "[encoded data removed]",
      "text/plain": [
       "<Figure size 432x288 with 1 Axes>"
      ]
     },
     "metadata": {
      "needs_background": "light"
     },
     "output_type": "display_data"
    }
   ],
   "source": [
    "df['cylinders'].hist(bins=20)\n",
    "plt.xlabel('cylinders')\n",
    "plt.ylabel('car')"
   ]
  },
  {
   "cell_type": "markdown",
   "metadata": {},
   "source": [
    "Jumlah silinder terbanyak ditempati oleh 8, 6 dan 4 silinder. 12 silinder sangat sedikit. Terlihat ada 3 atau 5 silinder disana, memang terdengar tidak umum. Tetapi memang ada jumlah silinder ganjil."
   ]
  },
  {
   "cell_type": "markdown",
   "metadata": {},
   "source": [
    "### Histogram Condition"
   ]
  },
  {
   "cell_type": "code",
   "execution_count": 37,
   "metadata": {},
   "outputs": [
    {
     "data": {
      "text/plain": [
       "Text(0, 0.5, 'car')"
      ]
     },
     "execution_count": 37,
     "metadata": {},
     "output_type": "execute_result"
    },
    {
     "data": {
      "image/png": "[encoded data removed]",
      "text/plain": [
       "<Figure size 432x288 with 1 Axes>"
      ]
     },
     "metadata": {
      "needs_background": "light"
     },
     "output_type": "display_data"
    }
   ],
   "source": [
    "df['condition'].hist()\n",
    "plt.xlabel('condition')\n",
    "plt.ylabel('car')"
   ]
  },
  {
   "cell_type": "markdown",
   "metadata": {},
   "source": [
    "Banyak mobil yang dijual dengan kondisi 3 yaitu excellent, dan 2 yaitu good. Yang berarti kondisi mobil masih sangat bagus dan layak pakai."
   ]
  },
  {
   "cell_type": "markdown",
   "metadata": {},
   "source": [
    "### Outlier Kolom Price\n"
   ]
  },
  {
   "cell_type": "code",
   "execution_count": 38,
   "metadata": {},
   "outputs": [
    {
     "data": {
      "text/plain": [
       "count    51525.000000\n",
       "mean     10678.748394\n",
       "std       5685.382358\n",
       "min       3200.000000\n",
       "25%       6400.000000\n",
       "50%       9895.000000\n",
       "75%      13900.000000\n",
       "max      49750.000000\n",
       "Name: price, dtype: float64"
      ]
     },
     "execution_count": 38,
     "metadata": {},
     "output_type": "execute_result"
    }
   ],
   "source": [
    "df['price'].describe()\n"
   ]
  },
  {
   "cell_type": "code",
   "execution_count": 39,
   "metadata": {},
   "outputs": [
    {
     "data": {
      "text/plain": [
       "<AxesSubplot:>"
      ]
     },
     "execution_count": 39,
     "metadata": {},
     "output_type": "execute_result"
    },
    {
     "data": {
      "image/png": "[encoded data removed]",
      "text/plain": [
       "<Figure size 432x288 with 1 Axes>"
      ]
     },
     "metadata": {
      "needs_background": "light"
     },
     "output_type": "display_data"
    }
   ],
   "source": [
    " # Untuk melihat outlier lebih jelas, saya akan menggunakan boxplot\n",
    "df.boxplot('price')\n"
   ]
  },
  {
   "cell_type": "code",
   "execution_count": 40,
   "metadata": {
    "scrolled": true
   },
   "outputs": [
    {
     "name": "stdout",
     "output_type": "stream",
     "text": [
      "Lower bound: -4850.0\n",
      "Upper bound: 25150.0\n"
     ]
    }
   ],
   "source": [
    "# menghitung kuantil, menentukan upper dan lower bound kolom price\n",
    "Q1 = df['price'].quantile(0.25)\n",
    "Q3 = df['price'].quantile(0.75)\n",
    "IQR = Q3 - Q1\n",
    "lower_bound_price = Q1 - (1.5 * IQR)\n",
    "upper_bound_price = Q3 + (1.5 * IQR)\n",
    "print('Lower bound:', lower_bound_price)\n",
    "print('Upper bound:', upper_bound_price)"
   ]
  },
  {
   "cell_type": "code",
   "execution_count": 41,
   "metadata": {},
   "outputs": [],
   "source": [
    "# Simpan data tanpa outlier dalam DataFrame yang terpisah\n",
    "df2 = df[ (df['price'] > lower_bound_price) & (df['price'] < upper_bound_price) ].reset_index(drop=True)"
   ]
  },
  {
   "cell_type": "markdown",
   "metadata": {},
   "source": [
    "### Oulier Kolom Age of Car"
   ]
  },
  {
   "cell_type": "code",
   "execution_count": 42,
   "metadata": {},
   "outputs": [
    {
     "data": {
      "text/plain": [
       "count    51525.000000\n",
       "mean         8.513906\n",
       "std          6.112976\n",
       "min          0.000000\n",
       "25%          4.000000\n",
       "50%          8.000000\n",
       "75%         12.000000\n",
       "max        110.000000\n",
       "Name: age_of_car, dtype: float64"
      ]
     },
     "execution_count": 42,
     "metadata": {},
     "output_type": "execute_result"
    }
   ],
   "source": [
    "df['age_of_car'].describe()"
   ]
  },
  {
   "cell_type": "code",
   "execution_count": 43,
   "metadata": {},
   "outputs": [
    {
     "data": {
      "text/plain": [
       "<AxesSubplot:>"
      ]
     },
     "execution_count": 43,
     "metadata": {},
     "output_type": "execute_result"
    },
    {
     "data": {
      "image/png": "[encoded data removed]",
      "text/plain": [
       "<Figure size 432x288 with 1 Axes>"
      ]
     },
     "metadata": {
      "needs_background": "light"
     },
     "output_type": "display_data"
    }
   ],
   "source": [
    "df.boxplot('age_of_car')"
   ]
  },
  {
   "cell_type": "code",
   "execution_count": 44,
   "metadata": {},
   "outputs": [
    {
     "name": "stdout",
     "output_type": "stream",
     "text": [
      "Lower bound: -8.0\n",
      "Upper bound: 24.0\n"
     ]
    }
   ],
   "source": [
    "# menghitung kuantil,  menentukan upper dan lower bound kolom age of car\n",
    "Q1 = df['age_of_car'].quantile(0.25)\n",
    "Q3 = df['age_of_car'].quantile(0.75)\n",
    "IQR = Q3 - Q1\n",
    "lower_bound_agecar = Q1 - (1.5 * IQR)\n",
    "upper_bound_agecar = Q3 + (1.5 * IQR)\n",
    "print('Lower bound:', lower_bound_agecar)\n",
    "print('Upper bound:', upper_bound_agecar)"
   ]
  },
  {
   "cell_type": "code",
   "execution_count": 45,
   "metadata": {},
   "outputs": [],
   "source": [
    "# Simpan data tanpa outlier dalam DataFrame yang terpisah\n",
    "df2 = df[ (df['age_of_car'] > lower_bound_agecar) & (df['age_of_car'] < upper_bound_agecar) ].reset_index(drop=True)"
   ]
  },
  {
   "cell_type": "markdown",
   "metadata": {},
   "source": [
    "### Outlier Kolom Odometer"
   ]
  },
  {
   "cell_type": "code",
   "execution_count": 46,
   "metadata": {},
   "outputs": [
    {
     "data": {
      "text/plain": [
       "count     51525.000000\n",
       "mean     115199.007278\n",
       "std       60484.868232\n",
       "min           0.000000\n",
       "25%       75668.000000\n",
       "50%      110908.000000\n",
       "75%      147821.000000\n",
       "max      990000.000000\n",
       "Name: odometer, dtype: float64"
      ]
     },
     "execution_count": 46,
     "metadata": {},
     "output_type": "execute_result"
    }
   ],
   "source": [
    "df['odometer'].describe()"
   ]
  },
  {
   "cell_type": "code",
   "execution_count": 47,
   "metadata": {},
   "outputs": [
    {
     "data": {
      "text/plain": [
       "<AxesSubplot:>"
      ]
     },
     "execution_count": 47,
     "metadata": {},
     "output_type": "execute_result"
    },
    {
     "data": {
      "image/png": "[encoded data removed]",
      "text/plain": [
       "<Figure size 432x288 with 1 Axes>"
      ]
     },
     "metadata": {
      "needs_background": "light"
     },
     "output_type": "display_data"
    }
   ],
   "source": [
    "df.boxplot('odometer')"
   ]
  },
  {
   "cell_type": "markdown",
   "metadata": {},
   "source": [
    "Ada begitu banyak outlier disini, bila dataset ini dicek menggunakan excel, banyak odometer menunjukkan nilai nol dan dibawah seribu, sedangkan kondisi mobil banyak dalam keadaan fair, good ,excellent. \n",
    "Tidak mungkin jika odometernya menunjukkan nilai nol."
   ]
  },
  {
   "cell_type": "code",
   "execution_count": 48,
   "metadata": {},
   "outputs": [
    {
     "name": "stdout",
     "output_type": "stream",
     "text": [
      "Lower bound: -32561.5\n",
      "Upper bound: 256050.5\n"
     ]
    }
   ],
   "source": [
    "# menghitung kuantil, menentukan upper dan lower bound kolom odometer\n",
    "Q1 = df['odometer'].quantile(0.25)\n",
    "Q3 = df['odometer'].quantile(0.75)\n",
    "IQR = Q3 - Q1\n",
    "lower_bound_odometer = Q1 - (1.5 * IQR)\n",
    "upper_bound_odometer = Q3 + (1.5 * IQR)\n",
    "print('Lower bound:', lower_bound_odometer)\n",
    "print('Upper bound:', upper_bound_odometer)"
   ]
  },
  {
   "cell_type": "code",
   "execution_count": 49,
   "metadata": {},
   "outputs": [],
   "source": [
    "# Simpan data tanpa outlier dalam DataFrame yang terpisah\n",
    "df2 = df[ (df['odometer'] > lower_bound_odometer) & (df['odometer'] < upper_bound_odometer) ].reset_index(drop=True)"
   ]
  },
  {
   "cell_type": "markdown",
   "metadata": {},
   "source": [
    "### Outlier Kolom Cylinders"
   ]
  },
  {
   "cell_type": "code",
   "execution_count": 50,
   "metadata": {},
   "outputs": [
    {
     "data": {
      "text/plain": [
       "count    51525.000000\n",
       "mean         6.121067\n",
       "std          1.657457\n",
       "min          3.000000\n",
       "25%          4.000000\n",
       "50%          6.000000\n",
       "75%          8.000000\n",
       "max         12.000000\n",
       "Name: cylinders, dtype: float64"
      ]
     },
     "execution_count": 50,
     "metadata": {},
     "output_type": "execute_result"
    }
   ],
   "source": [
    "df['cylinders'].describe()"
   ]
  },
  {
   "cell_type": "code",
   "execution_count": 51,
   "metadata": {},
   "outputs": [
    {
     "data": {
      "text/plain": [
       "<AxesSubplot:>"
      ]
     },
     "execution_count": 51,
     "metadata": {},
     "output_type": "execute_result"
    },
    {
     "data": {
      "image/png": "[encoded data removed]",
      "text/plain": [
       "<Figure size 432x288 with 1 Axes>"
      ]
     },
     "metadata": {
      "needs_background": "light"
     },
     "output_type": "display_data"
    }
   ],
   "source": [
    "df.boxplot('cylinders')"
   ]
  },
  {
   "cell_type": "markdown",
   "metadata": {},
   "source": [
    "Tidak ada outlier pada kolom cylinder, namun pendistribusian data tidak seimbang, ini ditandakan dengan letak whiskernya jauh dari kotak."
   ]
  },
  {
   "cell_type": "markdown",
   "metadata": {},
   "source": [
    "### Outlier Kolom Condition"
   ]
  },
  {
   "cell_type": "code",
   "execution_count": 52,
   "metadata": {},
   "outputs": [],
   "source": [
    "#mengubah tipe data kolom condition agar bisa dibuat boxplot\n",
    "df['condition'] = df['condition'].astype(int)"
   ]
  },
  {
   "cell_type": "code",
   "execution_count": 53,
   "metadata": {},
   "outputs": [
    {
     "data": {
      "text/plain": [
       "count    51525.000000\n",
       "mean         2.729568\n",
       "std          0.917570\n",
       "min          0.000000\n",
       "25%          2.000000\n",
       "50%          3.000000\n",
       "75%          3.000000\n",
       "max          5.000000\n",
       "Name: condition, dtype: float64"
      ]
     },
     "execution_count": 53,
     "metadata": {},
     "output_type": "execute_result"
    }
   ],
   "source": [
    "df['condition'].describe()"
   ]
  },
  {
   "cell_type": "code",
   "execution_count": 54,
   "metadata": {},
   "outputs": [
    {
     "data": {
      "text/plain": [
       "<AxesSubplot:>"
      ]
     },
     "execution_count": 54,
     "metadata": {},
     "output_type": "execute_result"
    },
    {
     "data": {
      "image/png": "[encoded data removed]",
      "text/plain": [
       "<Figure size 432x288 with 1 Axes>"
      ]
     },
     "metadata": {
      "needs_background": "light"
     },
     "output_type": "display_data"
    }
   ],
   "source": [
    "df.boxplot('condition')"
   ]
  },
  {
   "cell_type": "code",
   "execution_count": 55,
   "metadata": {},
   "outputs": [
    {
     "name": "stdout",
     "output_type": "stream",
     "text": [
      "Lower bound: 0.5\n",
      "Upper bound: 4.5\n"
     ]
    }
   ],
   "source": [
    "# menghitung kuantil. menentukan upper dan lower bound kolom condition\n",
    "Q1 = df['condition'].quantile(0.25)\n",
    "Q3 = df['condition'].quantile(0.75)\n",
    "IQR = Q3 - Q1\n",
    "lower_bound_condition = Q1 - (1.5 * IQR)\n",
    "upper_bound_condition = Q3 + (1.5 * IQR)\n",
    "print('Lower bound:', lower_bound_condition)\n",
    "print('Upper bound:', upper_bound_condition)"
   ]
  },
  {
   "cell_type": "code",
   "execution_count": 56,
   "metadata": {},
   "outputs": [],
   "source": [
    "# Simpan data tanpa outlier dalam DataFrame yang terpisah\n",
    "df2 = df[ (df['condition'] > lower_bound_condition) & (df['condition'] < upper_bound_condition) ].reset_index(drop=True)"
   ]
  },
  {
   "cell_type": "code",
   "execution_count": 57,
   "metadata": {},
   "outputs": [
    {
     "data": {
      "text/html": [
       "<div>\n",
       "<style scoped>\n",
       "    .dataframe tbody tr th:only-of-type {\n",
       "        vertical-align: middle;\n",
       "    }\n",
       "\n",
       "    .dataframe tbody tr th {\n",
       "        vertical-align: top;\n",
       "    }\n",
       "\n",
       "    .dataframe thead th {\n",
       "        text-align: right;\n",
       "    }\n",
       "</style>\n",
       "<table border=\"1\" class=\"dataframe\">\n",
       "  <thead>\n",
       "    <tr style=\"text-align: right;\">\n",
       "      <th></th>\n",
       "      <th>price</th>\n",
       "      <th>model_year</th>\n",
       "      <th>model</th>\n",
       "      <th>condition</th>\n",
       "      <th>cylinders</th>\n",
       "      <th>fuel</th>\n",
       "      <th>odometer</th>\n",
       "      <th>transmission</th>\n",
       "      <th>type</th>\n",
       "      <th>paint_color</th>\n",
       "      <th>is_4wd</th>\n",
       "      <th>date_posted</th>\n",
       "      <th>days_listed</th>\n",
       "      <th>week_listed</th>\n",
       "      <th>month_listed</th>\n",
       "      <th>year_listed</th>\n",
       "      <th>age_of_car</th>\n",
       "      <th>mileage</th>\n",
       "      <th>ford_model</th>\n",
       "    </tr>\n",
       "  </thead>\n",
       "  <tbody>\n",
       "    <tr>\n",
       "      <th>0</th>\n",
       "      <td>10500.0</td>\n",
       "      <td>2011</td>\n",
       "      <td>bmw x5</td>\n",
       "      <td>2</td>\n",
       "      <td>6</td>\n",
       "      <td>gas</td>\n",
       "      <td>145000</td>\n",
       "      <td>automatic</td>\n",
       "      <td>SUV</td>\n",
       "      <td>unknown</td>\n",
       "      <td>True</td>\n",
       "      <td>2018-06-23</td>\n",
       "      <td>19</td>\n",
       "      <td>5</td>\n",
       "      <td>6</td>\n",
       "      <td>2018</td>\n",
       "      <td>7</td>\n",
       "      <td>17030.961136</td>\n",
       "      <td>bmw x5</td>\n",
       "    </tr>\n",
       "    <tr>\n",
       "      <th>1</th>\n",
       "      <td>10500.0</td>\n",
       "      <td>2011</td>\n",
       "      <td>ford f-150</td>\n",
       "      <td>2</td>\n",
       "      <td>6</td>\n",
       "      <td>gas</td>\n",
       "      <td>88705</td>\n",
       "      <td>automatic</td>\n",
       "      <td>pickup</td>\n",
       "      <td>white</td>\n",
       "      <td>True</td>\n",
       "      <td>2018-10-19</td>\n",
       "      <td>50</td>\n",
       "      <td>4</td>\n",
       "      <td>10</td>\n",
       "      <td>2018</td>\n",
       "      <td>7</td>\n",
       "      <td>10418.837293</td>\n",
       "      <td>ford f-150</td>\n",
       "    </tr>\n",
       "    <tr>\n",
       "      <th>2</th>\n",
       "      <td>4488.0</td>\n",
       "      <td>2003</td>\n",
       "      <td>ford f-150</td>\n",
       "      <td>1</td>\n",
       "      <td>8</td>\n",
       "      <td>gas</td>\n",
       "      <td>181613</td>\n",
       "      <td>automatic</td>\n",
       "      <td>pickup</td>\n",
       "      <td>unknown</td>\n",
       "      <td>False</td>\n",
       "      <td>2019-03-22</td>\n",
       "      <td>9</td>\n",
       "      <td>4</td>\n",
       "      <td>3</td>\n",
       "      <td>2019</td>\n",
       "      <td>16</td>\n",
       "      <td>21331.337550</td>\n",
       "      <td>ford f-150</td>\n",
       "    </tr>\n",
       "    <tr>\n",
       "      <th>3</th>\n",
       "      <td>19800.0</td>\n",
       "      <td>2017</td>\n",
       "      <td>chrysler 200</td>\n",
       "      <td>3</td>\n",
       "      <td>4</td>\n",
       "      <td>gas</td>\n",
       "      <td>80903</td>\n",
       "      <td>automatic</td>\n",
       "      <td>sedan</td>\n",
       "      <td>black</td>\n",
       "      <td>False</td>\n",
       "      <td>2019-04-02</td>\n",
       "      <td>28</td>\n",
       "      <td>1</td>\n",
       "      <td>4</td>\n",
       "      <td>2019</td>\n",
       "      <td>2</td>\n",
       "      <td>9502.454129</td>\n",
       "      <td>chrysler 200</td>\n",
       "    </tr>\n",
       "    <tr>\n",
       "      <th>4</th>\n",
       "      <td>13900.0</td>\n",
       "      <td>2014</td>\n",
       "      <td>chrysler 300</td>\n",
       "      <td>3</td>\n",
       "      <td>6</td>\n",
       "      <td>gas</td>\n",
       "      <td>57954</td>\n",
       "      <td>automatic</td>\n",
       "      <td>sedan</td>\n",
       "      <td>black</td>\n",
       "      <td>True</td>\n",
       "      <td>2018-06-20</td>\n",
       "      <td>15</td>\n",
       "      <td>2</td>\n",
       "      <td>6</td>\n",
       "      <td>2018</td>\n",
       "      <td>4</td>\n",
       "      <td>6806.981529</td>\n",
       "      <td>chrysler 300</td>\n",
       "    </tr>\n",
       "  </tbody>\n",
       "</table>\n",
       "</div>"
      ],
      "text/plain": [
       "     price  model_year         model  condition  cylinders fuel  odometer  \\\n",
       "0  10500.0        2011        bmw x5          2          6  gas    145000   \n",
       "1  10500.0        2011    ford f-150          2          6  gas     88705   \n",
       "2   4488.0        2003    ford f-150          1          8  gas    181613   \n",
       "3  19800.0        2017  chrysler 200          3          4  gas     80903   \n",
       "4  13900.0        2014  chrysler 300          3          6  gas     57954   \n",
       "\n",
       "  transmission    type paint_color  is_4wd date_posted  days_listed  \\\n",
       "0    automatic     SUV     unknown    True  2018-06-23           19   \n",
       "1    automatic  pickup       white    True  2018-10-19           50   \n",
       "2    automatic  pickup     unknown   False  2019-03-22            9   \n",
       "3    automatic   sedan       black   False  2019-04-02           28   \n",
       "4    automatic   sedan       black    True  2018-06-20           15   \n",
       "\n",
       "   week_listed  month_listed  year_listed  age_of_car       mileage  \\\n",
       "0            5             6         2018           7  17030.961136   \n",
       "1            4            10         2018           7  10418.837293   \n",
       "2            4             3         2019          16  21331.337550   \n",
       "3            1             4         2019           2   9502.454129   \n",
       "4            2             6         2018           4   6806.981529   \n",
       "\n",
       "     ford_model  \n",
       "0        bmw x5  \n",
       "1    ford f-150  \n",
       "2    ford f-150  \n",
       "3  chrysler 200  \n",
       "4  chrysler 300  "
      ]
     },
     "execution_count": 57,
     "metadata": {},
     "output_type": "execute_result"
    }
   ],
   "source": [
    "# menampilkan dataset baru tanpa outlier\n",
    "df2.head()"
   ]
  },
  {
   "cell_type": "code",
   "execution_count": 98,
   "metadata": {
    "scrolled": true
   },
   "outputs": [
    {
     "name": "stdout",
     "output_type": "stream",
     "text": [
      "<class 'pandas.core.frame.DataFrame'>\n",
      "RangeIndex: 46525 entries, 0 to 46524\n",
      "Data columns (total 19 columns):\n",
      " #   Column        Non-Null Count  Dtype  \n",
      "---  ------        --------------  -----  \n",
      " 0   price         46525 non-null  float64\n",
      " 1   model_year    46525 non-null  int64  \n",
      " 2   model         46525 non-null  object \n",
      " 3   condition     46525 non-null  int64  \n",
      " 4   cylinders     46525 non-null  int64  \n",
      " 5   fuel          46525 non-null  object \n",
      " 6   odometer      46525 non-null  int64  \n",
      " 7   transmission  46525 non-null  object \n",
      " 8   type          46525 non-null  object \n",
      " 9   paint_color   46525 non-null  object \n",
      " 10  is_4wd        46525 non-null  bool   \n",
      " 11  date_posted   46525 non-null  object \n",
      " 12  days_listed   46525 non-null  int64  \n",
      " 13  week_listed   46525 non-null  int64  \n",
      " 14  month_listed  46525 non-null  int64  \n",
      " 15  year_listed   46525 non-null  int64  \n",
      " 16  age_of_car    46525 non-null  int64  \n",
      " 17  mileage       46525 non-null  float64\n",
      " 18  ford_model    46525 non-null  object \n",
      "dtypes: bool(1), float64(2), int64(9), object(7)\n",
      "memory usage: 6.4+ MB\n"
     ]
    }
   ],
   "source": [
    "df2.info()"
   ]
  },
  {
   "cell_type": "markdown",
   "metadata": {},
   "source": [
    "Dataset baru ini sudah rapi karena outlier yang ada pada setiap kolom sudah dihapus. Jumlah awal baris data adalah 51525 dan sekarang memiliki jumlah 46525 baris. "
   ]
  },
  {
   "cell_type": "markdown",
   "metadata": {},
   "source": [
    "## Mempelajari Parameter Inti Tanpa Outlier"
   ]
  },
  {
   "cell_type": "markdown",
   "metadata": {},
   "source": [
    "### Perbandingan Kolom Price"
   ]
  },
  {
   "cell_type": "code",
   "execution_count": 58,
   "metadata": {},
   "outputs": [
    {
     "data": {
      "text/plain": [
       "Text(0, 0.5, 'car')"
      ]
     },
     "execution_count": 58,
     "metadata": {},
     "output_type": "execute_result"
    },
    {
     "data": {
      "image/png": "[encoded data removed]",
      "text/plain": [
       "<Figure size 432x288 with 1 Axes>"
      ]
     },
     "metadata": {
      "needs_background": "light"
     },
     "output_type": "display_data"
    }
   ],
   "source": [
    "# melakukan perbandingan kolom price dari data lama dan baru\n",
    "df['price'].hist(bins=50)\n",
    "plt.xlabel('price')\n",
    "plt.ylabel('car')"
   ]
  },
  {
   "cell_type": "code",
   "execution_count": 59,
   "metadata": {},
   "outputs": [
    {
     "data": {
      "text/plain": [
       "Text(0, 0.5, 'car total')"
      ]
     },
     "execution_count": 59,
     "metadata": {},
     "output_type": "execute_result"
    },
    {
     "data": {
      "image/png": "[encoded data removed]",
      "text/plain": [
       "<Figure size 432x288 with 1 Axes>"
      ]
     },
     "metadata": {
      "needs_background": "light"
     },
     "output_type": "display_data"
    }
   ],
   "source": [
    "df2.hist('price', bins=50)\n",
    "plt.xlabel('car price')\n",
    "plt.ylabel('car total')"
   ]
  },
  {
   "cell_type": "markdown",
   "metadata": {},
   "source": [
    "Dari perbandingan kedua histogram diatas, dapat ditarik kesimpulan bahwa jumlah harga yang paling banyak dipasang oleh penjual berada di kisaran hampir 7.000 mobil,\n",
    "sedangkan pada data lama sebelum outlier dibuang, harga terbanyak yang dipasang penjual berada di sekitar 8.000 mobil\n"
   ]
  },
  {
   "cell_type": "markdown",
   "metadata": {},
   "source": [
    "### Perbandingan Kolom Age of Car"
   ]
  },
  {
   "cell_type": "code",
   "execution_count": 60,
   "metadata": {},
   "outputs": [
    {
     "data": {
      "text/plain": [
       "Text(0, 0.5, 'car total')"
      ]
     },
     "execution_count": 60,
     "metadata": {},
     "output_type": "execute_result"
    },
    {
     "data": {
      "image/png": "[encoded data removed]",
      "text/plain": [
       "<Figure size 432x288 with 1 Axes>"
      ]
     },
     "metadata": {
      "needs_background": "light"
     },
     "output_type": "display_data"
    }
   ],
   "source": [
    "df.hist('age_of_car', bins=50)\n",
    "plt.xlabel('car age')\n",
    "plt.ylabel('car total')"
   ]
  },
  {
   "cell_type": "code",
   "execution_count": 61,
   "metadata": {},
   "outputs": [
    {
     "data": {
      "text/plain": [
       "Text(0, 0.5, 'car total')"
      ]
     },
     "execution_count": 61,
     "metadata": {},
     "output_type": "execute_result"
    },
    {
     "data": {
      "image/png": "[encoded data removed]",
      "text/plain": [
       "<Figure size 432x288 with 1 Axes>"
      ]
     },
     "metadata": {
      "needs_background": "light"
     },
     "output_type": "display_data"
    }
   ],
   "source": [
    "df2.hist('age_of_car', bins=50)\n",
    "plt.xlabel('car age')\n",
    "plt.ylabel('car total')"
   ]
  },
  {
   "cell_type": "markdown",
   "metadata": {},
   "source": [
    "Dibanding kolom lainnya, kolom age_of_car memiliki jumlah outlier paling sedikit. Dilihat dari kedua histogram, penghapusan outlier tidak terlalu berpengaruh pada usia mobil, melainkan jumlah usia mobil pada angka tertentu."
   ]
  },
  {
   "cell_type": "markdown",
   "metadata": {},
   "source": [
    "### Perbandingan Kolom Odometer"
   ]
  },
  {
   "cell_type": "code",
   "execution_count": 62,
   "metadata": {},
   "outputs": [
    {
     "data": {
      "text/plain": [
       "Text(0, 0.5, 'car total')"
      ]
     },
     "execution_count": 62,
     "metadata": {},
     "output_type": "execute_result"
    },
    {
     "data": {
      "image/png": "[encoded data removed]",
      "text/plain": [
       "<Figure size 432x288 with 1 Axes>"
      ]
     },
     "metadata": {
      "needs_background": "light"
     },
     "output_type": "display_data"
    }
   ],
   "source": [
    "df.hist('odometer', bins=80, range=(0, 900000))\n",
    "plt.xlabel('odometer')\n",
    "plt.ylabel('car total')"
   ]
  },
  {
   "cell_type": "code",
   "execution_count": 63,
   "metadata": {},
   "outputs": [
    {
     "data": {
      "text/plain": [
       "Text(0, 0.5, 'car total')"
      ]
     },
     "execution_count": 63,
     "metadata": {},
     "output_type": "execute_result"
    },
    {
     "data": {
      "image/png": "[encoded data removed]",
      "text/plain": [
       "<Figure size 432x288 with 1 Axes>"
      ]
     },
     "metadata": {
      "needs_background": "light"
     },
     "output_type": "display_data"
    }
   ],
   "source": [
    "df2.hist('odometer', bins=80, range=(0, 900000))\n",
    "plt.xlabel('odometer')\n",
    "plt.ylabel('car total')"
   ]
  },
  {
   "cell_type": "markdown",
   "metadata": {},
   "source": [
    "Value maksimal dari kolom odometer adalah 990.000, namun saya membuat sumbu x dengan nilai max 900.000 karena jika membuatnya 1.000.000, nilainya akan berpangkat. Dan saat mengecek data dengan excel, nilai odometer di kisaran 900.000 sangat sedikit sehingga seharusnya tidak terlalu berpengaruh pada chart.\n",
    "\n",
    "Dari kedua hasil histogram diatas, tidak terlalu terlihat perbedaan yang jauh.\n"
   ]
  },
  {
   "cell_type": "markdown",
   "metadata": {},
   "source": [
    "### Perbandingan Kolom Cylinders"
   ]
  },
  {
   "cell_type": "code",
   "execution_count": 64,
   "metadata": {},
   "outputs": [
    {
     "data": {
      "text/plain": [
       "Text(0, 0.5, 'car total')"
      ]
     },
     "execution_count": 64,
     "metadata": {},
     "output_type": "execute_result"
    },
    {
     "data": {
      "image/png": "[encoded data removed]",
      "text/plain": [
       "<Figure size 432x288 with 1 Axes>"
      ]
     },
     "metadata": {
      "needs_background": "light"
     },
     "output_type": "display_data"
    }
   ],
   "source": [
    "df.hist('cylinders',bins=20)\n",
    "plt.xlabel('car cylinders')\n",
    "plt.ylabel('car total')"
   ]
  },
  {
   "cell_type": "markdown",
   "metadata": {},
   "source": [
    "Karena nilai pada kolom cylinders tidak memiliki outlier, tidak perlu membandingkan dengan data baru. Kendaraan dengan 8 silinder memiliki jumlah terbanyak, disusul dengan kendaraan 6 silinder dan 4 silinder."
   ]
  },
  {
   "cell_type": "markdown",
   "metadata": {},
   "source": [
    "### Perbandingan Kolom Condition"
   ]
  },
  {
   "cell_type": "code",
   "execution_count": 65,
   "metadata": {},
   "outputs": [
    {
     "data": {
      "text/plain": [
       "Text(0, 0.5, 'car total')"
      ]
     },
     "execution_count": 65,
     "metadata": {},
     "output_type": "execute_result"
    },
    {
     "data": {
      "image/png": "[encoded data removed]",
      "text/plain": [
       "<Figure size 432x288 with 1 Axes>"
      ]
     },
     "metadata": {
      "needs_background": "light"
     },
     "output_type": "display_data"
    }
   ],
   "source": [
    "df.hist('condition', bins=20)\n",
    "plt.xlabel('car condition')\n",
    "plt.ylabel('car total')"
   ]
  },
  {
   "cell_type": "code",
   "execution_count": 66,
   "metadata": {},
   "outputs": [
    {
     "data": {
      "text/plain": [
       "Text(0, 0.5, 'car total')"
      ]
     },
     "execution_count": 66,
     "metadata": {},
     "output_type": "execute_result"
    },
    {
     "data": {
      "image/png": "[encoded data removed]",
      "text/plain": [
       "<Figure size 432x288 with 1 Axes>"
      ]
     },
     "metadata": {
      "needs_background": "light"
     },
     "output_type": "display_data"
    }
   ],
   "source": [
    "df2.hist('condition', bins=20)\n",
    "plt.xlabel('car condition')\n",
    "plt.ylabel('car total')"
   ]
  },
  {
   "cell_type": "markdown",
   "metadata": {},
   "source": [
    "Setelah menghapus outliers kita dapat melihat bahwa banyak kondisi mobil dengan angka 4 dan 5 yang ternyata outliers. Dengan ini, semua mobil yang dijual memiliki kondisi dari angka 1 hingga 3 saja."
   ]
  },
  {
   "cell_type": "code",
   "execution_count": 67,
   "metadata": {},
   "outputs": [
    {
     "data": {
      "text/plain": [
       "count    46525.000000\n",
       "mean        39.603160\n",
       "std         28.201196\n",
       "min          0.000000\n",
       "25%         19.000000\n",
       "50%         33.000000\n",
       "75%         53.000000\n",
       "max        267.000000\n",
       "Name: days_listed, dtype: float64"
      ]
     },
     "execution_count": 67,
     "metadata": {},
     "output_type": "execute_result"
    }
   ],
   "source": [
    "df2['days_listed'].describe()"
   ]
  },
  {
   "cell_type": "code",
   "execution_count": 113,
   "metadata": {},
   "outputs": [
    {
     "data": {
      "text/plain": [
       "<AxesSubplot:>"
      ]
     },
     "execution_count": 113,
     "metadata": {},
     "output_type": "execute_result"
    },
    {
     "data": {
      "image/png": "[encoded data removed]",
      "text/plain": [
       "<Figure size 432x288 with 1 Axes>"
      ]
     },
     "metadata": {
      "needs_background": "light"
     },
     "output_type": "display_data"
    }
   ],
   "source": [
    "df2['days_listed'].hist(bins=80)"
   ]
  },
  {
   "cell_type": "markdown",
   "metadata": {},
   "source": [
    "Kita bisa melihat bahwa lamanya iklan ditayangkan sangat bervariasi, ada yang beberapa hari saja, ada yang hingga ratusan hari. Namun bisa dilihat ada nol hari juga disana.\n"
   ]
  },
  {
   "cell_type": "markdown",
   "metadata": {},
   "source": [
    "## Masa Berlaku Iklan"
   ]
  },
  {
   "cell_type": "code",
   "execution_count": 102,
   "metadata": {},
   "outputs": [
    {
     "data": {
      "text/plain": [
       "count    46525.000000\n",
       "mean        39.603160\n",
       "std         28.201196\n",
       "min          0.000000\n",
       "25%         19.000000\n",
       "50%         33.000000\n",
       "75%         53.000000\n",
       "max        267.000000\n",
       "Name: days_listed, dtype: float64"
      ]
     },
     "execution_count": 102,
     "metadata": {},
     "output_type": "execute_result"
    }
   ],
   "source": [
    "df2['days_listed'].describe()"
   ]
  },
  {
   "cell_type": "markdown",
   "metadata": {},
   "source": [
    "Jumlah iklan ditayangkan paling sedikit adalah 0 hari yang mungkin penjualnya berubah pikiran untuk menjual atau sudah langsung terjual setelah iklan diposting kurang dari 1 hari. Iklan mobil paling lama ditayangkan yaitu 267 hari."
   ]
  },
  {
   "cell_type": "code",
   "execution_count": 68,
   "metadata": {},
   "outputs": [
    {
     "name": "stdout",
     "output_type": "stream",
     "text": [
      "             days_listed\n",
      "date_posted             \n",
      "2018-05-01     36.601770\n",
      "2018-05-02     41.041958\n",
      "2018-05-03     38.731884\n",
      "2018-05-04     40.902256\n",
      "2018-05-05     43.973913\n",
      "...                  ...\n",
      "2019-04-15     35.977612\n",
      "2019-04-16     37.201550\n",
      "2019-04-17     35.820312\n",
      "2019-04-18     41.845070\n",
      "2019-04-19     37.360294\n",
      "\n",
      "[354 rows x 1 columns]\n"
     ]
    }
   ],
   "source": [
    "days_pivot_mean = df2.pivot_table(index='date_posted', values='days_listed')\n",
    "print(days_pivot_mean)"
   ]
  },
  {
   "cell_type": "code",
   "execution_count": 69,
   "metadata": {},
   "outputs": [
    {
     "name": "stdout",
     "output_type": "stream",
     "text": [
      "             days_listed\n",
      "date_posted             \n",
      "2018-05-01          33.0\n",
      "2018-05-02          33.0\n",
      "2018-05-03          34.0\n",
      "2018-05-04          31.0\n",
      "2018-05-05          36.0\n",
      "...                  ...\n",
      "2019-04-15          31.0\n",
      "2019-04-16          31.0\n",
      "2019-04-17          32.0\n",
      "2019-04-18          37.0\n",
      "2019-04-19          32.0\n",
      "\n",
      "[354 rows x 1 columns]\n"
     ]
    }
   ],
   "source": [
    "days_pivot_median = df2.pivot_table(index='date_posted', values='days_listed', aggfunc='median')\n",
    "print(days_pivot_median)"
   ]
  },
  {
   "cell_type": "markdown",
   "metadata": {},
   "source": [
    "Dari hasil perhitungan diatas, dapat disimpulkan bahwa umumnya iklan ditayangkan selama sekitar 30 hingga 44 hari."
   ]
  },
  {
   "cell_type": "markdown",
   "metadata": {},
   "source": [
    "## Harga Rata-Rata Setiap Jenis Kendaraan"
   ]
  },
  {
   "cell_type": "code",
   "execution_count": 70,
   "metadata": {},
   "outputs": [
    {
     "name": "stdout",
     "output_type": "stream",
     "text": [
      "             average_price  ad_counts\n",
      "type                                 \n",
      "SUV               10002.28      11209\n",
      "bus                8485.42         24\n",
      "convertible        9245.80        394\n",
      "coupe             11700.27       2076\n",
      "hatchback         10238.09        921\n",
      "mini-van           9524.68       1060\n",
      "offroad            7677.56        179\n",
      "other             10080.57        250\n",
      "pickup            10544.34       6382\n",
      "sedan             10698.17      10746\n",
      "truck             10275.74      11227\n",
      "van               10198.49        592\n",
      "wagon              9724.88       1465\n"
     ]
    }
   ],
   "source": [
    "# menganalisa jumlah iklan dan harga rata-rata untuk setiap jenis kendaraan\n",
    "ad_price_counts = df2.pivot_table(index='type', values='price', aggfunc=['mean','count']).round(2)\n",
    "ad_price_counts.columns = ['average_price', 'ad_counts']\n",
    "print(ad_price_counts)"
   ]
  },
  {
   "cell_type": "markdown",
   "metadata": {},
   "source": [
    "Dari hasil analisa menggunakan pivot table, ada 2 jenis kendaraan dengan jumlah iklan paling banyak, yaitu truck dan SUV."
   ]
  },
  {
   "cell_type": "code",
   "execution_count": 71,
   "metadata": {},
   "outputs": [
    {
     "data": {
      "text/plain": [
       "<AxesSubplot:xlabel='type'>"
      ]
     },
     "execution_count": 71,
     "metadata": {},
     "output_type": "execute_result"
    },
    {
     "data": {
      "image/png": "[encoded data removed]",
      "text/plain": [
       "<Figure size 432x288 with 1 Axes>"
      ]
     },
     "metadata": {
      "needs_background": "light"
     },
     "output_type": "display_data"
    }
   ],
   "source": [
    "ad_price_counts.plot(kind='bar')"
   ]
  },
  {
   "cell_type": "markdown",
   "metadata": {},
   "source": [
    "Dari grafik diatas, ada beberapa mobil yang kebetulan memiliki jumlah iklan hampir setara dengan jumlah mobil yang dijual, seperti sedan, truck dan SUV."
   ]
  },
  {
   "cell_type": "code",
   "execution_count": 72,
   "metadata": {},
   "outputs": [
    {
     "data": {
      "text/plain": [
       "<AxesSubplot:title={'center':'Average Price vs Ad Counts'}, xlabel='average_price', ylabel='ad_counts'>"
      ]
     },
     "execution_count": 72,
     "metadata": {},
     "output_type": "execute_result"
    },
    {
     "data": {
      "image/png": "[encoded data removed]",
      "text/plain": [
       "<Figure size 432x288 with 1 Axes>"
      ]
     },
     "metadata": {
      "needs_background": "light"
     },
     "output_type": "display_data"
    }
   ],
   "source": [
    "# grafik yang menunjukkan ketergantungan jumlah iklan pada jenis kendaraan\n",
    "ad_price_counts.plot(y='ad_counts', x='average_price', kind='scatter', title='Average Price vs Ad Counts')"
   ]
  },
  {
   "cell_type": "markdown",
   "metadata": {},
   "source": [
    "Bisa dilihat bahwa tidak ada ketergantungan antara jumlah iklan dengan jenis kendaraan"
   ]
  },
  {
   "cell_type": "markdown",
   "metadata": {},
   "source": [
    "## Faktor Harga"
   ]
  },
  {
   "cell_type": "markdown",
   "metadata": {},
   "source": [
    "Menganalisa berbagai faktor yang dapat mempengaruhi harga jual mobil."
   ]
  },
  {
   "cell_type": "markdown",
   "metadata": {},
   "source": [
    "### Faktor Harga Truck"
   ]
  },
  {
   "cell_type": "code",
   "execution_count": 73,
   "metadata": {},
   "outputs": [],
   "source": [
    "df_truck = df2[df2['type'] == 'truck'].reset_index(drop=True)"
   ]
  },
  {
   "cell_type": "code",
   "execution_count": 74,
   "metadata": {},
   "outputs": [
    {
     "data": {
      "text/plain": [
       "price          -0.861662\n",
       "model_year     -0.996843\n",
       "condition      -0.311985\n",
       "cylinders      -0.005293\n",
       "odometer        0.448112\n",
       "is_4wd         -0.171424\n",
       "days_listed     0.011061\n",
       "week_listed     0.009176\n",
       "month_listed   -0.061380\n",
       "year_listed     0.074882\n",
       "age_of_car      1.000000\n",
       "mileage         0.448112\n",
       "Name: age_of_car, dtype: float64"
      ]
     },
     "execution_count": 74,
     "metadata": {},
     "output_type": "execute_result"
    }
   ],
   "source": [
    "# menggunakan matriks korelasi untuk melihat faktor yang mempengaruhi penjualan\n",
    "df_truck.corr()['age_of_car']"
   ]
  },
  {
   "cell_type": "markdown",
   "metadata": {},
   "source": [
    "Penjualan mobil berdasarkan usianya berpengaruh, semakin tua usia mobil maka harga jualnya akan rendah."
   ]
  },
  {
   "cell_type": "markdown",
   "metadata": {},
   "source": [
    "#### Scatterplot Truck Age of Car"
   ]
  },
  {
   "cell_type": "code",
   "execution_count": 75,
   "metadata": {},
   "outputs": [
    {
     "data": {
      "text/plain": [
       "<AxesSubplot:title={'center':'correlation between price and car age'}, xlabel='price', ylabel='age_of_car'>"
      ]
     },
     "execution_count": 75,
     "metadata": {},
     "output_type": "execute_result"
    },
    {
     "data": {
      "image/png": "[encoded data removed]",
      "text/plain": [
       "<Figure size 432x288 with 1 Axes>"
      ]
     },
     "metadata": {
      "needs_background": "light"
     },
     "output_type": "display_data"
    }
   ],
   "source": [
    "df_truck.plot(x='price', y='age_of_car', kind='scatter', title='correlation between price and car age')"
   ]
  },
  {
   "cell_type": "markdown",
   "metadata": {},
   "source": [
    "Dengan nilai korelasi 1, terdapat hubungan linear antara usia mobil dengan penjualannya."
   ]
  },
  {
   "cell_type": "code",
   "execution_count": 76,
   "metadata": {},
   "outputs": [
    {
     "data": {
      "text/plain": [
       "price          -0.508947\n",
       "model_year     -0.448956\n",
       "condition      -0.275924\n",
       "cylinders      -0.022503\n",
       "odometer        1.000000\n",
       "is_4wd         -0.075331\n",
       "days_listed     0.001990\n",
       "week_listed     0.003611\n",
       "month_listed   -0.000848\n",
       "year_listed     0.005190\n",
       "age_of_car      0.448112\n",
       "mileage         1.000000\n",
       "Name: odometer, dtype: float64"
      ]
     },
     "execution_count": 76,
     "metadata": {},
     "output_type": "execute_result"
    }
   ],
   "source": [
    "# menggunakan matriks korelasi untuk melihat faktor yang mempengaruhi penjualan\n",
    "df_truck.corr()['odometer']"
   ]
  },
  {
   "cell_type": "markdown",
   "metadata": {},
   "source": [
    "Odometer atau jarak tempuh juga berperan dalam penjualan sebuah mobil, semakin sedikit jarak tempuh, mobil akan bisa dijual dengan harga lebih tinggi"
   ]
  },
  {
   "cell_type": "markdown",
   "metadata": {},
   "source": [
    "#### Scatterplot Truck Odometer"
   ]
  },
  {
   "cell_type": "code",
   "execution_count": 77,
   "metadata": {},
   "outputs": [
    {
     "data": {
      "text/plain": [
       "<AxesSubplot:title={'center':'correlation between price and odometer'}, xlabel='price', ylabel='odometer'>"
      ]
     },
     "execution_count": 77,
     "metadata": {},
     "output_type": "execute_result"
    },
    {
     "data": {
      "image/png": "[encoded data removed]",
      "text/plain": [
       "<Figure size 432x288 with 1 Axes>"
      ]
     },
     "metadata": {
      "needs_background": "light"
     },
     "output_type": "display_data"
    }
   ],
   "source": [
    "df_truck.plot(x='price', y='odometer', kind='scatter', title='correlation between price and odometer')"
   ]
  },
  {
   "cell_type": "markdown",
   "metadata": {},
   "source": [
    "Nilai korelasi yang dimiliki antara odometer dan penjualan sebuah mobil juga bernilai 1, ini berarti memang ada korelasi antara kedua hal ini."
   ]
  },
  {
   "cell_type": "markdown",
   "metadata": {},
   "source": [
    "#### Scatterplot Truck Condition"
   ]
  },
  {
   "cell_type": "code",
   "execution_count": 148,
   "metadata": {},
   "outputs": [
    {
     "data": {
      "text/plain": [
       "price           0.286410\n",
       "model_year      0.313035\n",
       "condition       1.000000\n",
       "cylinders       0.013363\n",
       "odometer       -0.275924\n",
       "is_4wd          0.118792\n",
       "days_listed    -0.000664\n",
       "week_listed     0.003429\n",
       "month_listed   -0.012711\n",
       "year_listed     0.002195\n",
       "age_of_car     -0.311985\n",
       "mileage        -0.275924\n",
       "Name: condition, dtype: float64"
      ]
     },
     "execution_count": 148,
     "metadata": {},
     "output_type": "execute_result"
    }
   ],
   "source": [
    "df_truck.corr()['condition']"
   ]
  },
  {
   "cell_type": "markdown",
   "metadata": {},
   "source": [
    "Kondisi mobil yang bagus tentu memiliki nilai jual lebih tinggi."
   ]
  },
  {
   "cell_type": "code",
   "execution_count": 143,
   "metadata": {},
   "outputs": [
    {
     "data": {
      "text/plain": [
       "<AxesSubplot:title={'center':'correlation between price and condition'}, xlabel='price', ylabel='condition'>"
      ]
     },
     "execution_count": 143,
     "metadata": {},
     "output_type": "execute_result"
    },
    {
     "data": {
      "image/png": "[encoded data removed]",
      "text/plain": [
       "<Figure size 432x288 with 1 Axes>"
      ]
     },
     "metadata": {
      "needs_background": "light"
     },
     "output_type": "display_data"
    }
   ],
   "source": [
    "df_truck.plot(x='price', y='condition', kind='scatter', title='correlation between price and condition')"
   ]
  },
  {
   "cell_type": "markdown",
   "metadata": {},
   "source": [
    "Harga dan kondisi mobil terlihat sejajar"
   ]
  },
  {
   "cell_type": "markdown",
   "metadata": {},
   "source": [
    "#### Boxplot Truck Transmission"
   ]
  },
  {
   "cell_type": "code",
   "execution_count": 122,
   "metadata": {},
   "outputs": [
    {
     "data": {
      "text/plain": [
       "automatic    10608\n",
       "manual         422\n",
       "other          197\n",
       "Name: transmission, dtype: int64"
      ]
     },
     "execution_count": 122,
     "metadata": {},
     "output_type": "execute_result"
    }
   ],
   "source": [
    "df_truck['transmission'].value_counts()"
   ]
  },
  {
   "cell_type": "markdown",
   "metadata": {},
   "source": [
    "Mobil truck yang dijual lebih banyak yang menggunakan transmisi otomatis."
   ]
  },
  {
   "cell_type": "code",
   "execution_count": 157,
   "metadata": {},
   "outputs": [
    {
     "data": {
      "text/plain": [
       "Text(0.5, 1.0, 'correlation between price and transmission')"
      ]
     },
     "execution_count": 157,
     "metadata": {},
     "output_type": "execute_result"
    },
    {
     "data": {
      "image/png": "[encoded data removed]",
      "text/plain": [
       "<Figure size 864x360 with 1 Axes>"
      ]
     },
     "metadata": {
      "needs_background": "light"
     },
     "output_type": "display_data"
    }
   ],
   "source": [
    "plt.figure(figsize=(12,5))\n",
    "sns.boxplot(data=df, x='price', y='transmission')\n",
    "plt.title('correlation between price and transmission')"
   ]
  },
  {
   "cell_type": "markdown",
   "metadata": {},
   "source": [
    "Berdasarkan hasil research, transmisi mobil yang paling digemari pengendara adalah manual. Mungkin itu sebabnya jenis transmisi mobil yang paling banyak dijual adalah otomatis."
   ]
  },
  {
   "cell_type": "markdown",
   "metadata": {},
   "source": [
    "#### Boxplot Truck Paint Color"
   ]
  },
  {
   "cell_type": "code",
   "execution_count": 126,
   "metadata": {},
   "outputs": [
    {
     "data": {
      "text/plain": [
       "white      3412\n",
       "unknown    1949\n",
       "black      1418\n",
       "red         957\n",
       "silver      919\n",
       "grey        844\n",
       "blue        804\n",
       "custom      299\n",
       "green       265\n",
       "brown       233\n",
       "yellow       65\n",
       "Name: paint_color, dtype: int64"
      ]
     },
     "execution_count": 126,
     "metadata": {},
     "output_type": "execute_result"
    }
   ],
   "source": [
    "# tidak mengikutsertakan nilai dengan jumlah dibawah 50\n",
    "df_truck['paint_color'].value_counts()[:-2]"
   ]
  },
  {
   "cell_type": "markdown",
   "metadata": {},
   "source": [
    "Warna mobil yang paling banyak dijual adalah putih dan hitam, lalu ada 1949 mobil yang tidak diketahui warnanya."
   ]
  },
  {
   "cell_type": "code",
   "execution_count": 137,
   "metadata": {},
   "outputs": [
    {
     "data": {
      "text/plain": [
       "Text(0.5, 1.0, 'correlation between price and paint_color')"
      ]
     },
     "execution_count": 137,
     "metadata": {},
     "output_type": "execute_result"
    },
    {
     "data": {
      "image/png": "[encoded data removed]",
      "text/plain": [
       "<Figure size 864x504 with 1 Axes>"
      ]
     },
     "metadata": {
      "needs_background": "light"
     },
     "output_type": "display_data"
    }
   ],
   "source": [
    "plt.figure(figsize=(12,7))\n",
    "sns.boxplot(data=df, x='price', y='paint_color')\n",
    "plt.title('correlation between price and paint_color')"
   ]
  },
  {
   "cell_type": "markdown",
   "metadata": {},
   "source": [
    "Terdapat sedikit korelasi antara warna mobil dengan harga jual. Warna umum seperti white dan black dapat dijual dengan harga tinggi dibandingkan dengan warna lainnya."
   ]
  },
  {
   "cell_type": "markdown",
   "metadata": {},
   "source": [
    "### Faktor Harga SUV"
   ]
  },
  {
   "cell_type": "code",
   "execution_count": 80,
   "metadata": {},
   "outputs": [],
   "source": [
    "df_suv = df2[df2['type'] == 'SUV'].reset_index(drop=True)"
   ]
  },
  {
   "cell_type": "code",
   "execution_count": 81,
   "metadata": {},
   "outputs": [
    {
     "data": {
      "text/plain": [
       "price          -0.850656\n",
       "model_year     -0.996383\n",
       "condition      -0.298489\n",
       "cylinders       0.235456\n",
       "odometer        0.515943\n",
       "is_4wd          0.054321\n",
       "days_listed     0.013613\n",
       "week_listed     0.000292\n",
       "month_listed   -0.058978\n",
       "year_listed     0.072627\n",
       "age_of_car      1.000000\n",
       "mileage         0.515943\n",
       "Name: age_of_car, dtype: float64"
      ]
     },
     "execution_count": 81,
     "metadata": {},
     "output_type": "execute_result"
    }
   ],
   "source": [
    "# menggunakan matriks korelasi untuk melihat faktor yang mempengaruhi penjualan\n",
    "df_suv.corr()['age_of_car']"
   ]
  },
  {
   "cell_type": "markdown",
   "metadata": {},
   "source": [
    "#### Scatterplot SUV Age of Car"
   ]
  },
  {
   "cell_type": "code",
   "execution_count": 82,
   "metadata": {},
   "outputs": [
    {
     "data": {
      "text/plain": [
       "<AxesSubplot:title={'center':'correlation between price and car age'}, xlabel='price', ylabel='age_of_car'>"
      ]
     },
     "execution_count": 82,
     "metadata": {},
     "output_type": "execute_result"
    },
    {
     "data": {
      "image/png": "[encoded data removed]",
      "text/plain": [
       "<Figure size 432x288 with 1 Axes>"
      ]
     },
     "metadata": {
      "needs_background": "light"
     },
     "output_type": "display_data"
    }
   ],
   "source": [
    "df_suv.plot(x='price', y='age_of_car', kind='scatter', title='correlation between price and car age')"
   ]
  },
  {
   "cell_type": "markdown",
   "metadata": {},
   "source": [
    "Dengan nilai korelasi 1, faktor usia kendaraan memiliki linear dengan penjualan sebuah mobil."
   ]
  },
  {
   "cell_type": "markdown",
   "metadata": {},
   "source": [
    "#### Scatterplot SUV Odometer"
   ]
  },
  {
   "cell_type": "code",
   "execution_count": 83,
   "metadata": {},
   "outputs": [
    {
     "data": {
      "text/plain": [
       "price          -0.578102\n",
       "model_year     -0.518089\n",
       "condition      -0.313639\n",
       "cylinders       0.177703\n",
       "odometer        1.000000\n",
       "is_4wd          0.007916\n",
       "days_listed     0.008994\n",
       "week_listed     0.006466\n",
       "month_listed    0.005517\n",
       "year_listed    -0.009625\n",
       "age_of_car      0.515943\n",
       "mileage         1.000000\n",
       "Name: odometer, dtype: float64"
      ]
     },
     "execution_count": 83,
     "metadata": {},
     "output_type": "execute_result"
    }
   ],
   "source": [
    "df_suv.corr()['odometer']"
   ]
  },
  {
   "cell_type": "code",
   "execution_count": 84,
   "metadata": {},
   "outputs": [
    {
     "data": {
      "text/plain": [
       "<AxesSubplot:title={'center':'correlation between price and odometer'}, xlabel='price', ylabel='odometer'>"
      ]
     },
     "execution_count": 84,
     "metadata": {},
     "output_type": "execute_result"
    },
    {
     "data": {
      "image/png": "[encoded data removed]",
      "text/plain": [
       "<Figure size 432x288 with 1 Axes>"
      ]
     },
     "metadata": {
      "needs_background": "light"
     },
     "output_type": "display_data"
    }
   ],
   "source": [
    "df_suv.plot(x='price', y='odometer', kind='scatter', title='correlation between price and odometer')"
   ]
  },
  {
   "cell_type": "markdown",
   "metadata": {},
   "source": [
    "Nilai kedua faktor membentuk garis sejajar, ini adalah korelasi linear."
   ]
  },
  {
   "cell_type": "markdown",
   "metadata": {},
   "source": [
    "#### Scatterplot SUV Condition"
   ]
  },
  {
   "cell_type": "code",
   "execution_count": 85,
   "metadata": {},
   "outputs": [
    {
     "data": {
      "text/plain": [
       "price           0.261947\n",
       "model_year      0.298225\n",
       "condition       1.000000\n",
       "cylinders      -0.086382\n",
       "odometer       -0.313639\n",
       "is_4wd          0.000295\n",
       "days_listed    -0.012708\n",
       "week_listed     0.001625\n",
       "month_listed    0.011407\n",
       "year_listed    -0.012110\n",
       "age_of_car     -0.298489\n",
       "mileage        -0.313639\n",
       "Name: condition, dtype: float64"
      ]
     },
     "execution_count": 85,
     "metadata": {},
     "output_type": "execute_result"
    }
   ],
   "source": [
    "df_suv.corr()['condition']"
   ]
  },
  {
   "cell_type": "markdown",
   "metadata": {},
   "source": [
    "Nilai korelasi yang dihasilkan adalah 1, yang berarti memiliki hubungan linear."
   ]
  },
  {
   "cell_type": "code",
   "execution_count": 86,
   "metadata": {},
   "outputs": [
    {
     "data": {
      "text/plain": [
       "<AxesSubplot:title={'center':'correlation between price and condition'}, xlabel='price', ylabel='odometer'>"
      ]
     },
     "execution_count": 86,
     "metadata": {},
     "output_type": "execute_result"
    },
    {
     "data": {
      "image/png": "[encoded data removed]",
      "text/plain": [
       "<Figure size 432x288 with 1 Axes>"
      ]
     },
     "metadata": {
      "needs_background": "light"
     },
     "output_type": "display_data"
    }
   ],
   "source": [
    "df_suv.plot(x='price', y='odometer', kind='scatter', title='correlation between price and condition')"
   ]
  },
  {
   "cell_type": "markdown",
   "metadata": {},
   "source": [
    "Faktor odometer pun membentuk garis sejajar dengan harga mobil, ini berarti memiliki hubungan korelasi linear."
   ]
  },
  {
   "cell_type": "markdown",
   "metadata": {},
   "source": [
    "#### Boxplot SUV Transmission"
   ]
  },
  {
   "cell_type": "code",
   "execution_count": 87,
   "metadata": {},
   "outputs": [
    {
     "data": {
      "text/plain": [
       "automatic    10574\n",
       "manual         488\n",
       "other          147\n",
       "Name: transmission, dtype: int64"
      ]
     },
     "execution_count": 87,
     "metadata": {},
     "output_type": "execute_result"
    }
   ],
   "source": [
    "df_suv['transmission'].value_counts()"
   ]
  },
  {
   "cell_type": "markdown",
   "metadata": {},
   "source": [
    "Banyak mobil yang dijual memiliki transmisi otomatis."
   ]
  },
  {
   "cell_type": "code",
   "execution_count": 88,
   "metadata": {},
   "outputs": [
    {
     "data": {
      "text/plain": [
       "Text(0.5, 1.0, 'correlation between price and transmission')"
      ]
     },
     "execution_count": 88,
     "metadata": {},
     "output_type": "execute_result"
    },
    {
     "data": {
      "image/png": "[encoded data removed]",
      "text/plain": [
       "<Figure size 864x360 with 1 Axes>"
      ]
     },
     "metadata": {
      "needs_background": "light"
     },
     "output_type": "display_data"
    }
   ],
   "source": [
    "plt.figure(figsize=(12,5))\n",
    "sns.boxplot(data=df, x='price', y='transmission')\n",
    "plt.title('correlation between price and transmission')"
   ]
  },
  {
   "cell_type": "markdown",
   "metadata": {},
   "source": [
    "Sama dengan hasil pada mobil truck, pengendara umumnnya menyukai transmisi manual, sehingga itulah mungkin sebabnya lebih banyak mobil dengan transmisi otomatis yang dijual."
   ]
  },
  {
   "cell_type": "markdown",
   "metadata": {},
   "source": [
    "#### Boxplot SUV Paint Color"
   ]
  },
  {
   "cell_type": "code",
   "execution_count": 90,
   "metadata": {},
   "outputs": [
    {
     "data": {
      "text/plain": [
       "white      3412\n",
       "unknown    1949\n",
       "black      1418\n",
       "red         957\n",
       "silver      919\n",
       "grey        844\n",
       "blue        804\n",
       "custom      299\n",
       "green       265\n",
       "brown       233\n",
       "yellow       65\n",
       "Name: paint_color, dtype: int64"
      ]
     },
     "execution_count": 90,
     "metadata": {},
     "output_type": "execute_result"
    }
   ],
   "source": [
    "# tidak mengikutsertakan nilai dengan jumlah dibawah 50\n",
    "df_truck['paint_color'].value_counts()[:-2]"
   ]
  },
  {
   "cell_type": "markdown",
   "metadata": {},
   "source": [
    "Warna mobil yang paling banyak dijual adalah putih dan hitam, ada 1949 mobil yang tidak diketahui warnanya."
   ]
  },
  {
   "cell_type": "code",
   "execution_count": 91,
   "metadata": {},
   "outputs": [
    {
     "data": {
      "text/plain": [
       "Text(0.5, 1.0, 'correlation between price and paint_color')"
      ]
     },
     "execution_count": 91,
     "metadata": {},
     "output_type": "execute_result"
    },
    {
     "data": {
      "image/png": "[encoded data removed]",
      "text/plain": [
       "<Figure size 864x504 with 1 Axes>"
      ]
     },
     "metadata": {
      "needs_background": "light"
     },
     "output_type": "display_data"
    }
   ],
   "source": [
    "plt.figure(figsize=(12,7))\n",
    "sns.boxplot(data=df, x='price', y='paint_color')\n",
    "plt.title('correlation between price and paint_color')"
   ]
  },
  {
   "cell_type": "markdown",
   "metadata": {},
   "source": [
    "Dari boxplot diatas, terdapat sedikit korelasi antara warna mobil dengan harga penjualan mobil. Untuk warna putih dan hitam, karena kedua warna tersebut umum dan netral, dapat dijual dengan harga lebih mahal dibandingkan dengan warna lainnya."
   ]
  },
  {
   "cell_type": "markdown",
   "metadata": {},
   "source": [
    "## Kesimpulan Umum"
   ]
  },
  {
   "cell_type": "markdown",
   "metadata": {},
   "source": [
    "<div class=\"alert alert-success\">\n",
    "<b>Chamdani's comment v.1</b> <a class=\"tocSkip\"></a>\n",
    "\n",
    "Kerja bagus!\n",
    "\n",
    "</div>"
   ]
  },
  {
   "cell_type": "markdown",
   "metadata": {},
   "source": [
    "Setelah melakukan banyak proses pada data ini, berikut langkah yang saya gunakan :\n",
    "\n",
    "- Di awal, seperti biasa melakukan pengecekan info data, duplikat, dan nilai yang hilang.\n",
    "- Tidak ada duplikat pada data ini, namun ada nilai yang hilang dan outliers yang harus ditangani\n",
    "- Dengan menggunakan fungsi, saya mengisi nilai yang hilang berdasarkan kolom tertentu\n",
    "- Untuk outliers, setelah menampilkannya lewat boxplot, kemudian saya menghitung batas atas dan bawah pada whiskers,\n",
    "  lalu menghapus outlier pada setiap kolom berdasarkan perhitungan tersebut.\n",
    "- Beberapa tipe data memiliki tipe yang kurang sesuai sehingga perubahan tipe data perlu dilakukan.\n",
    "- Setelah membuang data outliers, proses data pun dilakukan kembali dengan menggunakan histogram,\n",
    "  untuk membandingkan perubahan sebelum dan sesudah outliers dihapus.\n",
    "- Kemudian saya menghitung nilai korelasi untuk setiap faktor yang mungkin mempengaruhi penjualan sebuah mobil.\n",
    "- Lalu saya menampilkan scatterplot serta boxplot untuk menampilkan korelasi tersebut.\n",
    "\n",
    "Untuk jenis kendaraan paling banyak dijual di Crankshaft List adalah mobil truck dan SUV.\n",
    "\n",
    "Berikut kesimpulan untuk menjawab faktor apa saja yang bisa mempengaruhi harga sebuah mobil.Berdasarkan segala perhitungan yang sudah dilakukan dan juga melihat korelasi, ada beberapa faktor :\n",
    "    \n",
    "- usia kendaraan, jika usia mobil semakin tua, maka harga jualnya pun makin turun, jika usia mobil masih baru,\n",
    "  harga jualnya  bisa lebih tinggi.\n",
    "- odometer, jika mobil memiliki jarak tempuh jauh, itu berarti mobil sering digunakan, maka harga jualnya pun umumnya tidak bisa   terlalu tinggi.\n",
    "- kondisi mobil, tentu saja ini juga berpengaruh. Jika mobil dalam kondisi buruk, tentu tidak bisa dijual dengan harga tinggi.\n",
    "- untuk transmisi, sebenarnya tidak terlalu berpengaruh pada harga jual, ini sepertinya lebih ke preferensi masing-masing untuk  menggunakan jenis transmisi apa.\n",
    "- warna mobil, sedikit berpengaruh jika mobil yang dimiliki berwarna netral dan umum seperti hitam atau putih maka bisa dijual dengan harga lebih tinggi dibandingkan dengan warna hijau atau coklat.\n",
    "    "
   ]
  }
 ],
 "metadata": {
  "ExecuteTimeLog": [
   {
    "duration": 828,
    "start_time": "2021-11-16T09:21:11.304Z"
   },
   {
    "duration": 893,
    "start_time": "2021-11-16T09:21:17.728Z"
   },
   {
    "duration": 1150,
    "start_time": "2021-11-16T09:21:29.568Z"
   },
   {
    "duration": 3,
    "start_time": "2021-11-16T09:24:14.495Z"
   },
   {
    "duration": 120,
    "start_time": "2021-11-16T09:24:46.630Z"
   },
   {
    "duration": 3,
    "start_time": "2021-11-16T09:28:27.882Z"
   },
   {
    "duration": 4,
    "start_time": "2021-11-16T09:29:54.281Z"
   },
   {
    "duration": 3,
    "start_time": "2021-11-16T09:30:45.936Z"
   },
   {
    "duration": 4,
    "start_time": "2021-11-16T09:31:06.300Z"
   },
   {
    "duration": 113,
    "start_time": "2021-11-16T09:31:37.208Z"
   },
   {
    "duration": 143,
    "start_time": "2021-11-16T09:31:48.656Z"
   },
   {
    "duration": 98,
    "start_time": "2021-11-16T09:31:55.678Z"
   },
   {
    "duration": 3,
    "start_time": "2021-11-16T09:32:08.535Z"
   },
   {
    "duration": 111,
    "start_time": "2021-11-16T09:32:10.120Z"
   },
   {
    "duration": 3,
    "start_time": "2021-11-16T09:32:15.732Z"
   },
   {
    "duration": 4,
    "start_time": "2021-11-16T09:32:29.423Z"
   },
   {
    "duration": 3,
    "start_time": "2021-11-16T10:03:03.074Z"
   },
   {
    "duration": 3,
    "start_time": "2021-11-16T10:10:01.288Z"
   },
   {
    "duration": 3,
    "start_time": "2021-11-16T10:10:46.923Z"
   },
   {
    "duration": 121,
    "start_time": "2021-11-16T10:37:46.494Z"
   },
   {
    "duration": 125,
    "start_time": "2021-11-16T10:38:20.632Z"
   },
   {
    "duration": 112,
    "start_time": "2021-11-16T10:46:53.001Z"
   },
   {
    "duration": 110,
    "start_time": "2021-11-16T10:48:25.775Z"
   },
   {
    "duration": 3,
    "start_time": "2021-11-16T10:50:18.720Z"
   },
   {
    "duration": 4,
    "start_time": "2021-11-16T10:50:37.649Z"
   },
   {
    "duration": 2,
    "start_time": "2021-11-16T10:50:51.884Z"
   },
   {
    "duration": 3,
    "start_time": "2021-11-16T10:51:56.237Z"
   },
   {
    "duration": 101,
    "start_time": "2021-11-16T10:53:13.791Z"
   },
   {
    "duration": 3,
    "start_time": "2021-11-16T10:55:59.186Z"
   },
   {
    "duration": 3,
    "start_time": "2021-11-16T10:56:10.751Z"
   },
   {
    "duration": 3,
    "start_time": "2021-11-16T10:56:49.038Z"
   },
   {
    "duration": 3,
    "start_time": "2021-11-16T10:56:49.174Z"
   },
   {
    "duration": 4,
    "start_time": "2021-11-16T10:56:49.414Z"
   },
   {
    "duration": 3,
    "start_time": "2021-11-16T10:56:49.680Z"
   },
   {
    "duration": 3,
    "start_time": "2021-11-16T10:56:50.370Z"
   },
   {
    "duration": 114,
    "start_time": "2021-11-16T10:59:34.518Z"
   },
   {
    "duration": 3,
    "start_time": "2021-11-16T11:01:41.201Z"
   },
   {
    "duration": 116,
    "start_time": "2021-11-16T11:01:48.754Z"
   },
   {
    "duration": 3,
    "start_time": "2021-11-16T11:02:16.685Z"
   },
   {
    "duration": 3,
    "start_time": "2021-11-16T11:02:19.479Z"
   },
   {
    "duration": 3,
    "start_time": "2021-11-16T11:02:47.067Z"
   },
   {
    "duration": 3,
    "start_time": "2021-11-16T11:02:49.353Z"
   },
   {
    "duration": 3,
    "start_time": "2021-11-16T11:03:07.835Z"
   },
   {
    "duration": 3,
    "start_time": "2021-11-16T11:03:07.953Z"
   },
   {
    "duration": 112,
    "start_time": "2021-11-16T11:07:52.072Z"
   },
   {
    "duration": 187,
    "start_time": "2021-11-16T11:09:23.468Z"
   },
   {
    "duration": 4,
    "start_time": "2021-11-16T11:10:01.455Z"
   },
   {
    "duration": 3,
    "start_time": "2021-11-16T11:10:05.069Z"
   },
   {
    "duration": 4,
    "start_time": "2021-11-16T11:10:13.376Z"
   },
   {
    "duration": 3,
    "start_time": "2021-11-16T11:10:14.434Z"
   },
   {
    "duration": 3,
    "start_time": "2021-11-16T11:10:22.853Z"
   },
   {
    "duration": 4,
    "start_time": "2021-11-16T11:27:29.279Z"
   },
   {
    "duration": 4,
    "start_time": "2021-11-16T11:29:08.919Z"
   },
   {
    "duration": 118,
    "start_time": "2021-11-16T11:29:46.703Z"
   },
   {
    "duration": 437,
    "start_time": "2021-11-16T11:36:02.181Z"
   },
   {
    "duration": 157,
    "start_time": "2021-11-16T11:36:14.388Z"
   },
   {
    "duration": 207,
    "start_time": "2021-11-16T11:47:15.898Z"
   },
   {
    "duration": 3,
    "start_time": "2021-11-16T11:53:52.092Z"
   },
   {
    "duration": 3,
    "start_time": "2021-11-16T11:53:52.236Z"
   },
   {
    "duration": 3,
    "start_time": "2021-11-16T11:59:12.005Z"
   },
   {
    "duration": 112,
    "start_time": "2021-11-16T12:00:33.446Z"
   },
   {
    "duration": 3,
    "start_time": "2021-11-16T12:02:14.453Z"
   },
   {
    "duration": 3,
    "start_time": "2021-11-16T12:02:39.512Z"
   },
   {
    "duration": 106,
    "start_time": "2021-11-16T12:03:03.460Z"
   }
  ],
  "kernelspec": {
   "display_name": "Python 3 (ipykernel)",
   "language": "python",
   "name": "python3"
  },
  "language_info": {
   "codemirror_mode": {
    "name": "ipython",
    "version": 3
   },
   "file_extension": ".py",
   "mimetype": "text/x-python",
   "name": "python",
   "nbconvert_exporter": "python",
   "pygments_lexer": "ipython3",
   "version": "3.9.5"
  },
  "toc": {
   "base_numbering": 1,
   "nav_menu": {},
   "number_sections": true,
   "sideBar": true,
   "skip_h1_title": false,
   "title_cell": "Table of Contents",
   "title_sidebar": "Contents",
   "toc_cell": false,
   "toc_position": {
    "height": "calc(100% - 180px)",
    "left": "10px",
    "top": "150px",
    "width": "202.075px"
   },
   "toc_section_display": true,
   "toc_window_display": true
  }
 },
 "nbformat": 4,
 "nbformat_minor": 2
}
